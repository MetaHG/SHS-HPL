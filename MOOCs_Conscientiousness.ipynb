{
 "cells": [
  {
   "cell_type": "code",
   "execution_count": 1,
   "metadata": {},
   "outputs": [],
   "source": [
    "%matplotlib inline\n",
    "\n",
    "import re, itertools, getpass, pymysql.cursors\n",
    "from collections import Counter\n",
    "import pandas as pd\n",
    "import networkx as nx\n",
    "import numpy as np\n",
    "import matplotlib.pyplot as plt\n",
    "import statsmodels.api as sm\n",
    "from scipy.stats import ttest_ind, pearsonr, spearmanr\n",
    "\n"
   ]
  },
  {
   "cell_type": "code",
   "execution_count": 2,
   "metadata": {},
   "outputs": [],
   "source": [
    "def ExecuteQuery(Connector, SQLQuery):\n",
    "\n",
    "    Cursor = Connector.cursor()\n",
    "    Cursor.execute(SQLQuery)\n",
    "    Connector.commit()\n",
    "    \n",
    "    ReturnedRows = []\n",
    "\n",
    "    while True:\n",
    "        Row = Cursor.fetchone()\n",
    "        if Row is None:\n",
    "            break\n",
    "        else:\n",
    "            ReturnedRows.append(Row)\n",
    "\n",
    "    return ReturnedRows"
   ]
  },
  {
   "cell_type": "code",
   "execution_count": 3,
   "metadata": {},
   "outputs": [],
   "source": [
    "#  Forum_Events                       |\n",
    "#| Forum_Info                         |\n",
    "#| Problem_Events_with_Info           |\n",
    "#| User_Grade                   |\n",
    "#| User_Location                      |\n",
    "#| Video_Events                       |\n",
    "#| Video_Info   "
   ]
  },
  {
   "cell_type": "code",
   "execution_count": 4,
   "metadata": {
    "scrolled": true
   },
   "outputs": [
    {
     "name": "stdout",
     "output_type": "stream",
     "text": [
      "Password: ········\n"
     ]
    }
   ],
   "source": [
    "Connector = pymysql.connect(user='hplearn', password=getpass.getpass(\"Password: \"), host='cedegemac8.epfl.ch', port=3306, charset='utf8mb4', use_unicode=True)\n"
   ]
  },
  {
   "cell_type": "code",
   "execution_count": 5,
   "metadata": {
    "scrolled": false
   },
   "outputs": [
    {
     "name": "stdout",
     "output_type": "stream",
     "text": [
      "757606\n"
     ]
    }
   ],
   "source": [
    "# Select 1 target course\n",
    "CourseID = 'progfun-2012-001' # Principles of Reactive Programming\n",
    "\n",
    "# Fetch grade history of students who took selected course\n",
    "Output = ExecuteQuery(Connector, \"\"\"\n",
    "    SELECT *\n",
    "    FROM project_how_people_learn.problem_events_with_info\n",
    "    WHERE CourseID='%s'\n",
    "\"\"\" % CourseID)\n",
    "\n",
    "# Convert output to dataframe\n",
    "VideoEventsDF = pd.DataFrame(Output, columns=['CourseID', 'UserID', 'TimeStamp', 'EventType', 'ProblemType', 'ProblemID', 'SubmissionNumber', 'Grade', 'MaximumSubmissions', 'title', 'openTime', 'SoftCloseTime', 'HardCloseTime'])\n",
    "\n",
    "# Display size and head of dataframe\n",
    "print(len(VideoEventsDF))\n"
   ]
  },
  {
   "cell_type": "markdown",
   "metadata": {},
   "source": [
    "### Let's try to findout the difference between hard and soft deadlines"
   ]
  },
  {
   "cell_type": "code",
   "execution_count": 89,
   "metadata": {},
   "outputs": [],
   "source": [
    "submissions = VideoEventsDF[VideoEventsDF['ProblemType'] == 'Assignment']"
   ]
  },
  {
   "cell_type": "code",
   "execution_count": 90,
   "metadata": {},
   "outputs": [
    {
     "data": {
      "text/html": [
       "<div>\n",
       "<style scoped>\n",
       "    .dataframe tbody tr th:only-of-type {\n",
       "        vertical-align: middle;\n",
       "    }\n",
       "\n",
       "    .dataframe tbody tr th {\n",
       "        vertical-align: top;\n",
       "    }\n",
       "\n",
       "    .dataframe thead th {\n",
       "        text-align: right;\n",
       "    }\n",
       "</style>\n",
       "<table border=\"1\" class=\"dataframe\">\n",
       "  <thead>\n",
       "    <tr style=\"text-align: right;\">\n",
       "      <th></th>\n",
       "      <th>CourseID</th>\n",
       "      <th>UserID</th>\n",
       "      <th>TimeStamp</th>\n",
       "      <th>EventType</th>\n",
       "      <th>ProblemType</th>\n",
       "      <th>ProblemID</th>\n",
       "      <th>SubmissionNumber</th>\n",
       "      <th>Grade</th>\n",
       "      <th>MaximumSubmissions</th>\n",
       "      <th>title</th>\n",
       "      <th>openTime</th>\n",
       "      <th>SoftCloseTime</th>\n",
       "      <th>HardCloseTime</th>\n",
       "    </tr>\n",
       "  </thead>\n",
       "  <tbody>\n",
       "    <tr>\n",
       "      <th>7</th>\n",
       "      <td>progfun-2012-001</td>\n",
       "      <td>1363859\u0000\u0000\u0000\u0000\u0000\u0000\u0000\u0000\u0000\u0000\u0000\u0000\u0000\u0000\u0000\u0000\u0000\u0000\u0000\u0000\u0000\u0000\u0000\u0000\u0000\u0000\u0000\u0000\u0000\u0000\u0000\u0000\u0000\u0000\u0000\u0000\u0000\u0000\u0000...</td>\n",
       "      <td>1350002205</td>\n",
       "      <td>Problem.Check</td>\n",
       "      <td>Assignment</td>\n",
       "      <td>14\u0000\u0000\u0000\u0000\u0000\u0000\u0000\u0000\u0000\u0000\u0000\u0000\u0000\u0000\u0000\u0000\u0000\u0000\u0000\u0000\u0000\u0000\u0000\u0000\u0000\u0000\u0000\u0000\u0000\u0000</td>\n",
       "      <td>6</td>\n",
       "      <td>98.500004</td>\n",
       "      <td>0.0</td>\n",
       "      <td>Huffman Coding / Huffman Coding</td>\n",
       "      <td>1.349793e+09</td>\n",
       "      <td>1.351235e+09</td>\n",
       "      <td>1.351584e+09</td>\n",
       "    </tr>\n",
       "  </tbody>\n",
       "</table>\n",
       "</div>"
      ],
      "text/plain": [
       "           CourseID                                             UserID  \\\n",
       "7  progfun-2012-001  1363859\u0000\u0000\u0000\u0000\u0000\u0000\u0000\u0000\u0000\u0000\u0000\u0000\u0000\u0000\u0000\u0000\u0000\u0000\u0000\u0000\u0000\u0000\u0000\u0000\u0000\u0000\u0000\u0000\u0000\u0000\u0000\u0000\u0000\u0000\u0000\u0000\u0000\u0000\u0000...   \n",
       "\n",
       "    TimeStamp      EventType ProblemType                         ProblemID  \\\n",
       "7  1350002205  Problem.Check  Assignment  14\u0000\u0000\u0000\u0000\u0000\u0000\u0000\u0000\u0000\u0000\u0000\u0000\u0000\u0000\u0000\u0000\u0000\u0000\u0000\u0000\u0000\u0000\u0000\u0000\u0000\u0000\u0000\u0000\u0000\u0000   \n",
       "\n",
       "   SubmissionNumber      Grade  MaximumSubmissions  \\\n",
       "7                 6  98.500004                 0.0   \n",
       "\n",
       "                             title      openTime  SoftCloseTime  HardCloseTime  \n",
       "7  Huffman Coding / Huffman Coding  1.349793e+09   1.351235e+09   1.351584e+09  "
      ]
     },
     "execution_count": 90,
     "metadata": {},
     "output_type": "execute_result"
    }
   ],
   "source": [
    "submissions.head(1)"
   ]
  },
  {
   "cell_type": "code",
   "execution_count": 91,
   "metadata": {},
   "outputs": [
    {
     "data": {
      "text/plain": [
       "<matplotlib.collections.PathCollection at 0x134597e10>"
      ]
     },
     "execution_count": 91,
     "metadata": {},
     "output_type": "execute_result"
    },
    {
     "data": {
      "image/png": "[encoded data removed]",
      "text/plain": [
       "<Figure size 432x288 with 1 Axes>"
      ]
     },
     "metadata": {},
     "output_type": "display_data"
    }
   ],
   "source": [
    "plt.scatter(submissions['Grade'], submissions['SubmissionNumber'], alpha=.5)"
   ]
  },
  {
   "cell_type": "code",
   "execution_count": 92,
   "metadata": {},
   "outputs": [
    {
     "data": {
      "text/html": [
       "<div>\n",
       "<style scoped>\n",
       "    .dataframe tbody tr th:only-of-type {\n",
       "        vertical-align: middle;\n",
       "    }\n",
       "\n",
       "    .dataframe tbody tr th {\n",
       "        vertical-align: top;\n",
       "    }\n",
       "\n",
       "    .dataframe thead th {\n",
       "        text-align: right;\n",
       "    }\n",
       "</style>\n",
       "<table border=\"1\" class=\"dataframe\">\n",
       "  <thead>\n",
       "    <tr style=\"text-align: right;\">\n",
       "      <th></th>\n",
       "      <th>CourseID</th>\n",
       "      <th>UserID</th>\n",
       "      <th>TimeStamp</th>\n",
       "      <th>EventType</th>\n",
       "      <th>ProblemType</th>\n",
       "      <th>ProblemID</th>\n",
       "      <th>SubmissionNumber</th>\n",
       "      <th>Grade</th>\n",
       "      <th>MaximumSubmissions</th>\n",
       "      <th>title</th>\n",
       "      <th>openTime</th>\n",
       "      <th>SoftCloseTime</th>\n",
       "      <th>HardCloseTime</th>\n",
       "    </tr>\n",
       "  </thead>\n",
       "  <tbody>\n",
       "    <tr>\n",
       "      <th>7</th>\n",
       "      <td>progfun-2012-001</td>\n",
       "      <td>1363859\u0000\u0000\u0000\u0000\u0000\u0000\u0000\u0000\u0000\u0000\u0000\u0000\u0000\u0000\u0000\u0000\u0000\u0000\u0000\u0000\u0000\u0000\u0000\u0000\u0000\u0000\u0000\u0000\u0000\u0000\u0000\u0000\u0000\u0000\u0000\u0000\u0000\u0000\u0000...</td>\n",
       "      <td>1350002205</td>\n",
       "      <td>Problem.Check</td>\n",
       "      <td>Assignment</td>\n",
       "      <td>14\u0000\u0000\u0000\u0000\u0000\u0000\u0000\u0000\u0000\u0000\u0000\u0000\u0000\u0000\u0000\u0000\u0000\u0000\u0000\u0000\u0000\u0000\u0000\u0000\u0000\u0000\u0000\u0000\u0000\u0000</td>\n",
       "      <td>6</td>\n",
       "      <td>98.500004</td>\n",
       "      <td>0.0</td>\n",
       "      <td>Huffman Coding / Huffman Coding</td>\n",
       "      <td>1.349793e+09</td>\n",
       "      <td>1.351235e+09</td>\n",
       "      <td>1.351584e+09</td>\n",
       "    </tr>\n",
       "  </tbody>\n",
       "</table>\n",
       "</div>"
      ],
      "text/plain": [
       "           CourseID                                             UserID  \\\n",
       "7  progfun-2012-001  1363859\u0000\u0000\u0000\u0000\u0000\u0000\u0000\u0000\u0000\u0000\u0000\u0000\u0000\u0000\u0000\u0000\u0000\u0000\u0000\u0000\u0000\u0000\u0000\u0000\u0000\u0000\u0000\u0000\u0000\u0000\u0000\u0000\u0000\u0000\u0000\u0000\u0000\u0000\u0000...   \n",
       "\n",
       "    TimeStamp      EventType ProblemType                         ProblemID  \\\n",
       "7  1350002205  Problem.Check  Assignment  14\u0000\u0000\u0000\u0000\u0000\u0000\u0000\u0000\u0000\u0000\u0000\u0000\u0000\u0000\u0000\u0000\u0000\u0000\u0000\u0000\u0000\u0000\u0000\u0000\u0000\u0000\u0000\u0000\u0000\u0000   \n",
       "\n",
       "   SubmissionNumber      Grade  MaximumSubmissions  \\\n",
       "7                 6  98.500004                 0.0   \n",
       "\n",
       "                             title      openTime  SoftCloseTime  HardCloseTime  \n",
       "7  Huffman Coding / Huffman Coding  1.349793e+09   1.351235e+09   1.351584e+09  "
      ]
     },
     "execution_count": 92,
     "metadata": {},
     "output_type": "execute_result"
    }
   ],
   "source": [
    "submissions.head(1)"
   ]
  },
  {
   "cell_type": "markdown",
   "metadata": {},
   "source": [
    "Submissions before and after soft deadline"
   ]
  },
  {
   "cell_type": "code",
   "execution_count": 93,
   "metadata": {},
   "outputs": [
    {
     "data": {
      "text/plain": [
       "182"
      ]
     },
     "execution_count": 93,
     "metadata": {},
     "output_type": "execute_result"
    }
   ],
   "source": [
    "len(submissions[submissions['Grade'].isnull()])"
   ]
  },
  {
   "cell_type": "markdown",
   "metadata": {},
   "source": [
    "Removing NaN grades"
   ]
  },
  {
   "cell_type": "code",
   "execution_count": 94,
   "metadata": {},
   "outputs": [],
   "source": [
    "submissions = submissions.dropna(subset=['Grade'])"
   ]
  },
  {
   "cell_type": "code",
   "execution_count": 95,
   "metadata": {},
   "outputs": [],
   "source": [
    "early_submissions = submissions[submissions['TimeStamp'] < submissions['SoftCloseTime']]\n",
    "late_submissions = submissions[submissions['TimeStamp'] >= submissions['SoftCloseTime']]"
   ]
  },
  {
   "cell_type": "code",
   "execution_count": 96,
   "metadata": {},
   "outputs": [],
   "source": [
    "wtf_submissions = submissions[submissions['TimeStamp'] > submissions['HardCloseTime']]"
   ]
  },
  {
   "cell_type": "code",
   "execution_count": 97,
   "metadata": {},
   "outputs": [
    {
     "name": "stdout",
     "output_type": "stream",
     "text": [
      "206680\n",
      "27491\n"
     ]
    }
   ],
   "source": [
    "print(len(early_submissions))\n",
    "print(len(late_submissions))"
   ]
  },
  {
   "cell_type": "code",
   "execution_count": 98,
   "metadata": {},
   "outputs": [
    {
     "data": {
      "text/plain": [
       "<matplotlib.axes._subplots.AxesSubplot at 0x133d0a898>"
      ]
     },
     "execution_count": 98,
     "metadata": {},
     "output_type": "execute_result"
    },
    {
     "data": {
      "image/png": "[encoded data removed]",
      "text/plain": [
       "<Figure size 432x288 with 1 Axes>"
      ]
     },
     "metadata": {},
     "output_type": "display_data"
    }
   ],
   "source": [
    "early_submissions['Grade'].hist()"
   ]
  },
  {
   "cell_type": "code",
   "execution_count": 99,
   "metadata": {},
   "outputs": [
    {
     "data": {
      "text/plain": [
       "<matplotlib.axes._subplots.AxesSubplot at 0x135682a20>"
      ]
     },
     "execution_count": 99,
     "metadata": {},
     "output_type": "execute_result"
    },
    {
     "data": {
      "image/png": "[encoded data removed]",
      "text/plain": [
       "<Figure size 432x288 with 1 Axes>"
      ]
     },
     "metadata": {},
     "output_type": "display_data"
    }
   ],
   "source": [
    "late_submissions['Grade'].hist()"
   ]
  },
  {
   "cell_type": "code",
   "execution_count": 100,
   "metadata": {},
   "outputs": [
    {
     "data": {
      "text/plain": [
       "count    206680.000000\n",
       "mean         81.816785\n",
       "std          23.737889\n",
       "min           0.000000\n",
       "25%          70.300002\n",
       "50%          93.299999\n",
       "75%         100.000000\n",
       "max         100.000000\n",
       "Name: Grade, dtype: float64"
      ]
     },
     "execution_count": 100,
     "metadata": {},
     "output_type": "execute_result"
    }
   ],
   "source": [
    "early_submissions['Grade'].describe()"
   ]
  },
  {
   "cell_type": "code",
   "execution_count": 101,
   "metadata": {},
   "outputs": [
    {
     "data": {
      "text/plain": [
       "count    27491.000000\n",
       "mean        82.934913\n",
       "std         22.685194\n",
       "min          0.000000\n",
       "25%         72.199998\n",
       "50%         93.299999\n",
       "75%        100.000000\n",
       "max        100.000000\n",
       "Name: Grade, dtype: float64"
      ]
     },
     "execution_count": 101,
     "metadata": {},
     "output_type": "execute_result"
    }
   ],
   "source": [
    "late_submissions['Grade'].describe()"
   ]
  },
  {
   "cell_type": "code",
   "execution_count": 102,
   "metadata": {},
   "outputs": [
    {
     "data": {
      "text/plain": [
       "Ttest_indResult(statistic=-7.374789688896361, pvalue=1.6514426822983696e-13)"
      ]
     },
     "execution_count": 102,
     "metadata": {},
     "output_type": "execute_result"
    }
   ],
   "source": [
    "ttest_ind(early_submissions['Grade'], late_submissions['Grade'])"
   ]
  },
  {
   "cell_type": "markdown",
   "metadata": {},
   "source": [
    "We cannot reject the hypothesis that they're similar, p = 1.6e-13..."
   ]
  },
  {
   "cell_type": "code",
   "execution_count": 103,
   "metadata": {},
   "outputs": [
    {
     "data": {
      "text/html": [
       "<div>\n",
       "<style scoped>\n",
       "    .dataframe tbody tr th:only-of-type {\n",
       "        vertical-align: middle;\n",
       "    }\n",
       "\n",
       "    .dataframe tbody tr th {\n",
       "        vertical-align: top;\n",
       "    }\n",
       "\n",
       "    .dataframe thead th {\n",
       "        text-align: right;\n",
       "    }\n",
       "</style>\n",
       "<table border=\"1\" class=\"dataframe\">\n",
       "  <thead>\n",
       "    <tr style=\"text-align: right;\">\n",
       "      <th></th>\n",
       "      <th>CourseID</th>\n",
       "      <th>UserID</th>\n",
       "      <th>TimeStamp</th>\n",
       "      <th>EventType</th>\n",
       "      <th>ProblemType</th>\n",
       "      <th>ProblemID</th>\n",
       "      <th>SubmissionNumber</th>\n",
       "      <th>Grade</th>\n",
       "      <th>MaximumSubmissions</th>\n",
       "      <th>title</th>\n",
       "      <th>openTime</th>\n",
       "      <th>SoftCloseTime</th>\n",
       "      <th>HardCloseTime</th>\n",
       "    </tr>\n",
       "  </thead>\n",
       "  <tbody>\n",
       "    <tr>\n",
       "      <th>7</th>\n",
       "      <td>progfun-2012-001</td>\n",
       "      <td>1363859\u0000\u0000\u0000\u0000\u0000\u0000\u0000\u0000\u0000\u0000\u0000\u0000\u0000\u0000\u0000\u0000\u0000\u0000\u0000\u0000\u0000\u0000\u0000\u0000\u0000\u0000\u0000\u0000\u0000\u0000\u0000\u0000\u0000\u0000\u0000\u0000\u0000\u0000\u0000...</td>\n",
       "      <td>1350002205</td>\n",
       "      <td>Problem.Check</td>\n",
       "      <td>Assignment</td>\n",
       "      <td>14\u0000\u0000\u0000\u0000\u0000\u0000\u0000\u0000\u0000\u0000\u0000\u0000\u0000\u0000\u0000\u0000\u0000\u0000\u0000\u0000\u0000\u0000\u0000\u0000\u0000\u0000\u0000\u0000\u0000\u0000</td>\n",
       "      <td>6</td>\n",
       "      <td>98.500004</td>\n",
       "      <td>0.0</td>\n",
       "      <td>Huffman Coding / Huffman Coding</td>\n",
       "      <td>1.349793e+09</td>\n",
       "      <td>1.351235e+09</td>\n",
       "      <td>1.351584e+09</td>\n",
       "    </tr>\n",
       "    <tr>\n",
       "      <th>9</th>\n",
       "      <td>progfun-2012-001</td>\n",
       "      <td>79240\u0000\u0000\u0000\u0000\u0000\u0000\u0000\u0000\u0000\u0000\u0000\u0000\u0000\u0000\u0000\u0000\u0000\u0000\u0000\u0000\u0000\u0000\u0000\u0000\u0000\u0000\u0000\u0000\u0000\u0000\u0000\u0000\u0000\u0000\u0000\u0000\u0000\u0000\u0000\u0000\u0000...</td>\n",
       "      <td>1350920280</td>\n",
       "      <td>Problem.Check</td>\n",
       "      <td>Assignment</td>\n",
       "      <td>12\u0000\u0000\u0000\u0000\u0000\u0000\u0000\u0000\u0000\u0000\u0000\u0000\u0000\u0000\u0000\u0000\u0000\u0000\u0000\u0000\u0000\u0000\u0000\u0000\u0000\u0000\u0000\u0000\u0000\u0000</td>\n",
       "      <td>1</td>\n",
       "      <td>92.700005</td>\n",
       "      <td>0.0</td>\n",
       "      <td>Object-Oriented Sets / Object-Oriented Sets</td>\n",
       "      <td>1.349177e+09</td>\n",
       "      <td>1.350025e+09</td>\n",
       "      <td>1.350371e+09</td>\n",
       "    </tr>\n",
       "  </tbody>\n",
       "</table>\n",
       "</div>"
      ],
      "text/plain": [
       "           CourseID                                             UserID  \\\n",
       "7  progfun-2012-001  1363859\u0000\u0000\u0000\u0000\u0000\u0000\u0000\u0000\u0000\u0000\u0000\u0000\u0000\u0000\u0000\u0000\u0000\u0000\u0000\u0000\u0000\u0000\u0000\u0000\u0000\u0000\u0000\u0000\u0000\u0000\u0000\u0000\u0000\u0000\u0000\u0000\u0000\u0000\u0000...   \n",
       "9  progfun-2012-001  79240\u0000\u0000\u0000\u0000\u0000\u0000\u0000\u0000\u0000\u0000\u0000\u0000\u0000\u0000\u0000\u0000\u0000\u0000\u0000\u0000\u0000\u0000\u0000\u0000\u0000\u0000\u0000\u0000\u0000\u0000\u0000\u0000\u0000\u0000\u0000\u0000\u0000\u0000\u0000\u0000\u0000...   \n",
       "\n",
       "    TimeStamp      EventType ProblemType                         ProblemID  \\\n",
       "7  1350002205  Problem.Check  Assignment  14\u0000\u0000\u0000\u0000\u0000\u0000\u0000\u0000\u0000\u0000\u0000\u0000\u0000\u0000\u0000\u0000\u0000\u0000\u0000\u0000\u0000\u0000\u0000\u0000\u0000\u0000\u0000\u0000\u0000\u0000   \n",
       "9  1350920280  Problem.Check  Assignment  12\u0000\u0000\u0000\u0000\u0000\u0000\u0000\u0000\u0000\u0000\u0000\u0000\u0000\u0000\u0000\u0000\u0000\u0000\u0000\u0000\u0000\u0000\u0000\u0000\u0000\u0000\u0000\u0000\u0000\u0000   \n",
       "\n",
       "   SubmissionNumber      Grade  MaximumSubmissions  \\\n",
       "7                 6  98.500004                 0.0   \n",
       "9                 1  92.700005                 0.0   \n",
       "\n",
       "                                         title      openTime  SoftCloseTime  \\\n",
       "7              Huffman Coding / Huffman Coding  1.349793e+09   1.351235e+09   \n",
       "9  Object-Oriented Sets / Object-Oriented Sets  1.349177e+09   1.350025e+09   \n",
       "\n",
       "   HardCloseTime  \n",
       "7   1.351584e+09  \n",
       "9   1.350371e+09  "
      ]
     },
     "execution_count": 103,
     "metadata": {},
     "output_type": "execute_result"
    }
   ],
   "source": [
    "submissions.head(2)"
   ]
  },
  {
   "cell_type": "markdown",
   "metadata": {},
   "source": [
    "## Measuring motivation"
   ]
  },
  {
   "cell_type": "markdown",
   "metadata": {},
   "source": [
    "We'll try to measure motivation by using the submissions patterns as a proxy for motivation"
   ]
  },
  {
   "cell_type": "code",
   "execution_count": 104,
   "metadata": {},
   "outputs": [
    {
     "data": {
      "text/plain": [
       "234171"
      ]
     },
     "execution_count": 104,
     "metadata": {},
     "output_type": "execute_result"
    }
   ],
   "source": [
    "len(submissions)"
   ]
  },
  {
   "cell_type": "code",
   "execution_count": 105,
   "metadata": {
    "scrolled": true
   },
   "outputs": [
    {
     "data": {
      "text/plain": [
       "38899"
      ]
     },
     "execution_count": 105,
     "metadata": {},
     "output_type": "execute_result"
    }
   ],
   "source": [
    "len(submissions[(submissions['TimeStamp'] - submissions['openTime']) < 0])"
   ]
  },
  {
   "cell_type": "markdown",
   "metadata": {},
   "source": [
    "Deleting submission that were made before the homework was released. (how is that even possible ?)"
   ]
  },
  {
   "cell_type": "code",
   "execution_count": 106,
   "metadata": {},
   "outputs": [],
   "source": [
    "submissions = submissions[(submissions['TimeStamp'] - submissions['openTime']) >= 0]"
   ]
  },
  {
   "cell_type": "markdown",
   "metadata": {},
   "source": [
    "Casting the numbers to int (was string before)"
   ]
  },
  {
   "cell_type": "code",
   "execution_count": 107,
   "metadata": {},
   "outputs": [],
   "source": [
    "submissions['UserID'] = pd.to_numeric(submissions['UserID'].str.strip('\\0'))\n",
    "submissions['ProblemID'] = pd.to_numeric(submissions['ProblemID'].str.strip('\\0'))"
   ]
  },
  {
   "cell_type": "markdown",
   "metadata": {},
   "source": [
    "Delete the example assignments. It is not mandatory and not graded"
   ]
  },
  {
   "cell_type": "code",
   "execution_count": 108,
   "metadata": {},
   "outputs": [],
   "source": [
    "submissions = submissions[submissions['ProblemID'] != 5]"
   ]
  },
  {
   "cell_type": "code",
   "execution_count": 109,
   "metadata": {},
   "outputs": [
    {
     "data": {
      "text/plain": [
       "174507"
      ]
     },
     "execution_count": 109,
     "metadata": {},
     "output_type": "execute_result"
    }
   ],
   "source": [
    "len(submissions)"
   ]
  },
  {
   "cell_type": "markdown",
   "metadata": {},
   "source": [
    "We'll now first try to get the last submission of each user and keep its 'earliness'"
   ]
  },
  {
   "cell_type": "code",
   "execution_count": 110,
   "metadata": {
    "scrolled": true
   },
   "outputs": [],
   "source": [
    "latest_submission = submissions.sort_values('TimeStamp', ascending=False).groupby(['UserID', 'ProblemID']).first().reset_index()\n"
   ]
  },
  {
   "cell_type": "markdown",
   "metadata": {},
   "source": [
    "Let's compare the user that finished the Mooc and the others"
   ]
  },
  {
   "cell_type": "code",
   "execution_count": 111,
   "metadata": {},
   "outputs": [
    {
     "data": {
      "text/plain": [
       "6"
      ]
     },
     "execution_count": 111,
     "metadata": {},
     "output_type": "execute_result"
    }
   ],
   "source": [
    "numberProblems = len(submissions['ProblemID'].unique())\n",
    "numberProblems"
   ]
  },
  {
   "cell_type": "markdown",
   "metadata": {},
   "source": [
    "List of the users that submitted all the exercices"
   ]
  },
  {
   "cell_type": "code",
   "execution_count": 112,
   "metadata": {},
   "outputs": [],
   "source": [
    "count_submissions = submissions[['UserID', 'ProblemID']].groupby('UserID').agg({'ProblemID' : 'nunique'}).reset_index()\n",
    "count_submissions = count_submissions.rename(columns={'ProblemID': 'count'})[['UserID', 'count']]"
   ]
  },
  {
   "cell_type": "code",
   "execution_count": 113,
   "metadata": {},
   "outputs": [
    {
     "data": {
      "text/html": [
       "<div>\n",
       "<style scoped>\n",
       "    .dataframe tbody tr th:only-of-type {\n",
       "        vertical-align: middle;\n",
       "    }\n",
       "\n",
       "    .dataframe tbody tr th {\n",
       "        vertical-align: top;\n",
       "    }\n",
       "\n",
       "    .dataframe thead th {\n",
       "        text-align: right;\n",
       "    }\n",
       "</style>\n",
       "<table border=\"1\" class=\"dataframe\">\n",
       "  <thead>\n",
       "    <tr style=\"text-align: right;\">\n",
       "      <th></th>\n",
       "      <th>UserID</th>\n",
       "      <th>count</th>\n",
       "    </tr>\n",
       "  </thead>\n",
       "  <tbody>\n",
       "    <tr>\n",
       "      <th>0</th>\n",
       "      <td>964</td>\n",
       "      <td>4</td>\n",
       "    </tr>\n",
       "    <tr>\n",
       "      <th>1</th>\n",
       "      <td>1157</td>\n",
       "      <td>4</td>\n",
       "    </tr>\n",
       "    <tr>\n",
       "      <th>2</th>\n",
       "      <td>1568</td>\n",
       "      <td>3</td>\n",
       "    </tr>\n",
       "    <tr>\n",
       "      <th>3</th>\n",
       "      <td>1572</td>\n",
       "      <td>4</td>\n",
       "    </tr>\n",
       "    <tr>\n",
       "      <th>4</th>\n",
       "      <td>1584</td>\n",
       "      <td>3</td>\n",
       "    </tr>\n",
       "  </tbody>\n",
       "</table>\n",
       "</div>"
      ],
      "text/plain": [
       "   UserID  count\n",
       "0     964      4\n",
       "1    1157      4\n",
       "2    1568      3\n",
       "3    1572      4\n",
       "4    1584      3"
      ]
     },
     "execution_count": 113,
     "metadata": {},
     "output_type": "execute_result"
    }
   ],
   "source": [
    "count_submissions.head()"
   ]
  },
  {
   "cell_type": "code",
   "execution_count": 114,
   "metadata": {},
   "outputs": [
    {
     "data": {
      "text/plain": [
       "16400"
      ]
     },
     "execution_count": 114,
     "metadata": {},
     "output_type": "execute_result"
    }
   ],
   "source": [
    "len(count_submissions)"
   ]
  },
  {
   "cell_type": "markdown",
   "metadata": {},
   "source": [
    "Number of user that submitted the 7 assignements"
   ]
  },
  {
   "cell_type": "code",
   "execution_count": 115,
   "metadata": {},
   "outputs": [
    {
     "data": {
      "text/plain": [
       "2313"
      ]
     },
     "execution_count": 115,
     "metadata": {},
     "output_type": "execute_result"
    }
   ],
   "source": [
    "(count_submissions['count'] >= numberProblems).sum()"
   ]
  },
  {
   "cell_type": "code",
   "execution_count": 116,
   "metadata": {},
   "outputs": [],
   "source": [
    "user_all_submission = count_submissions[count_submissions['count'] >= numberProblems]['UserID']"
   ]
  },
  {
   "cell_type": "code",
   "execution_count": 117,
   "metadata": {},
   "outputs": [
    {
     "data": {
      "text/plain": [
       "2313"
      ]
     },
     "execution_count": 117,
     "metadata": {},
     "output_type": "execute_result"
    }
   ],
   "source": [
    "len(user_all_submission)"
   ]
  },
  {
   "cell_type": "markdown",
   "metadata": {},
   "source": [
    "#### Compute average date per user and per homework"
   ]
  },
  {
   "cell_type": "code",
   "execution_count": 118,
   "metadata": {
    "scrolled": true
   },
   "outputs": [],
   "source": [
    "average_ts_user = submissions.groupby(['UserID', 'ProblemID']).agg({'TimeStamp' : 'mean'}).rename(columns={'TimeStamp' : 'AvgTimeStamp'}).reset_index()"
   ]
  },
  {
   "cell_type": "code",
   "execution_count": 119,
   "metadata": {},
   "outputs": [
    {
     "data": {
      "text/html": [
       "<div>\n",
       "<style scoped>\n",
       "    .dataframe tbody tr th:only-of-type {\n",
       "        vertical-align: middle;\n",
       "    }\n",
       "\n",
       "    .dataframe tbody tr th {\n",
       "        vertical-align: top;\n",
       "    }\n",
       "\n",
       "    .dataframe thead th {\n",
       "        text-align: right;\n",
       "    }\n",
       "</style>\n",
       "<table border=\"1\" class=\"dataframe\">\n",
       "  <thead>\n",
       "    <tr style=\"text-align: right;\">\n",
       "      <th></th>\n",
       "      <th>UserID</th>\n",
       "      <th>ProblemID</th>\n",
       "      <th>AvgTimeStamp</th>\n",
       "    </tr>\n",
       "  </thead>\n",
       "  <tbody>\n",
       "    <tr>\n",
       "      <th>0</th>\n",
       "      <td>964</td>\n",
       "      <td>12</td>\n",
       "      <td>1.349747e+09</td>\n",
       "    </tr>\n",
       "    <tr>\n",
       "      <th>1</th>\n",
       "      <td>964</td>\n",
       "      <td>14</td>\n",
       "      <td>1.349860e+09</td>\n",
       "    </tr>\n",
       "    <tr>\n",
       "      <th>2</th>\n",
       "      <td>964</td>\n",
       "      <td>17</td>\n",
       "      <td>1.351038e+09</td>\n",
       "    </tr>\n",
       "    <tr>\n",
       "      <th>3</th>\n",
       "      <td>964</td>\n",
       "      <td>20</td>\n",
       "      <td>1.351680e+09</td>\n",
       "    </tr>\n",
       "    <tr>\n",
       "      <th>4</th>\n",
       "      <td>1157</td>\n",
       "      <td>12</td>\n",
       "      <td>1.349393e+09</td>\n",
       "    </tr>\n",
       "  </tbody>\n",
       "</table>\n",
       "</div>"
      ],
      "text/plain": [
       "   UserID  ProblemID  AvgTimeStamp\n",
       "0     964         12  1.349747e+09\n",
       "1     964         14  1.349860e+09\n",
       "2     964         17  1.351038e+09\n",
       "3     964         20  1.351680e+09\n",
       "4    1157         12  1.349393e+09"
      ]
     },
     "execution_count": 119,
     "metadata": {},
     "output_type": "execute_result"
    }
   ],
   "source": [
    "average_ts_user.head()"
   ]
  },
  {
   "cell_type": "markdown",
   "metadata": {},
   "source": [
    "The softclosetime are hopefully unique"
   ]
  },
  {
   "cell_type": "code",
   "execution_count": 120,
   "metadata": {},
   "outputs": [
    {
     "data": {
      "text/html": [
       "<div>\n",
       "<style scoped>\n",
       "    .dataframe tbody tr th:only-of-type {\n",
       "        vertical-align: middle;\n",
       "    }\n",
       "\n",
       "    .dataframe tbody tr th {\n",
       "        vertical-align: top;\n",
       "    }\n",
       "\n",
       "    .dataframe thead th {\n",
       "        text-align: right;\n",
       "    }\n",
       "</style>\n",
       "<table border=\"1\" class=\"dataframe\">\n",
       "  <thead>\n",
       "    <tr style=\"text-align: right;\">\n",
       "      <th></th>\n",
       "      <th>ProblemID</th>\n",
       "      <th>SoftCloseTime</th>\n",
       "    </tr>\n",
       "    <tr>\n",
       "      <th>ProblemID</th>\n",
       "      <th></th>\n",
       "      <th></th>\n",
       "    </tr>\n",
       "  </thead>\n",
       "  <tbody>\n",
       "    <tr>\n",
       "      <th>6</th>\n",
       "      <td>1</td>\n",
       "      <td>1</td>\n",
       "    </tr>\n",
       "    <tr>\n",
       "      <th>7</th>\n",
       "      <td>1</td>\n",
       "      <td>1</td>\n",
       "    </tr>\n",
       "    <tr>\n",
       "      <th>12</th>\n",
       "      <td>1</td>\n",
       "      <td>1</td>\n",
       "    </tr>\n",
       "    <tr>\n",
       "      <th>14</th>\n",
       "      <td>1</td>\n",
       "      <td>1</td>\n",
       "    </tr>\n",
       "    <tr>\n",
       "      <th>17</th>\n",
       "      <td>1</td>\n",
       "      <td>1</td>\n",
       "    </tr>\n",
       "    <tr>\n",
       "      <th>20</th>\n",
       "      <td>1</td>\n",
       "      <td>1</td>\n",
       "    </tr>\n",
       "  </tbody>\n",
       "</table>\n",
       "</div>"
      ],
      "text/plain": [
       "           ProblemID  SoftCloseTime\n",
       "ProblemID                          \n",
       "6                  1              1\n",
       "7                  1              1\n",
       "12                 1              1\n",
       "14                 1              1\n",
       "17                 1              1\n",
       "20                 1              1"
      ]
     },
     "execution_count": 120,
     "metadata": {},
     "output_type": "execute_result"
    }
   ],
   "source": [
    "submissions[['ProblemID', 'SoftCloseTime']].groupby(['ProblemID']).nunique()"
   ]
  },
  {
   "cell_type": "code",
   "execution_count": 121,
   "metadata": {},
   "outputs": [],
   "source": [
    "softCloseTime_problem = submissions[['ProblemID', 'SoftCloseTime', 'HardCloseTime', 'openTime']].drop_duplicates()"
   ]
  },
  {
   "cell_type": "code",
   "execution_count": 122,
   "metadata": {},
   "outputs": [
    {
     "data": {
      "text/html": [
       "<div>\n",
       "<style scoped>\n",
       "    .dataframe tbody tr th:only-of-type {\n",
       "        vertical-align: middle;\n",
       "    }\n",
       "\n",
       "    .dataframe tbody tr th {\n",
       "        vertical-align: top;\n",
       "    }\n",
       "\n",
       "    .dataframe thead th {\n",
       "        text-align: right;\n",
       "    }\n",
       "</style>\n",
       "<table border=\"1\" class=\"dataframe\">\n",
       "  <thead>\n",
       "    <tr style=\"text-align: right;\">\n",
       "      <th></th>\n",
       "      <th>ProblemID</th>\n",
       "      <th>SoftCloseTime</th>\n",
       "      <th>HardCloseTime</th>\n",
       "      <th>openTime</th>\n",
       "    </tr>\n",
       "  </thead>\n",
       "  <tbody>\n",
       "    <tr>\n",
       "      <th>7</th>\n",
       "      <td>14</td>\n",
       "      <td>1.351235e+09</td>\n",
       "      <td>1.351584e+09</td>\n",
       "      <td>1.349793e+09</td>\n",
       "    </tr>\n",
       "    <tr>\n",
       "      <th>9</th>\n",
       "      <td>12</td>\n",
       "      <td>1.350025e+09</td>\n",
       "      <td>1.350371e+09</td>\n",
       "      <td>1.349177e+09</td>\n",
       "    </tr>\n",
       "    <tr>\n",
       "      <th>23</th>\n",
       "      <td>17</td>\n",
       "      <td>1.352063e+09</td>\n",
       "      <td>1.352408e+09</td>\n",
       "      <td>1.351019e+09</td>\n",
       "    </tr>\n",
       "    <tr>\n",
       "      <th>24</th>\n",
       "      <td>20</td>\n",
       "      <td>1.353272e+09</td>\n",
       "      <td>1.353618e+09</td>\n",
       "      <td>1.351643e+09</td>\n",
       "    </tr>\n",
       "    <tr>\n",
       "      <th>39</th>\n",
       "      <td>6</td>\n",
       "      <td>1.349420e+09</td>\n",
       "      <td>1.349766e+09</td>\n",
       "      <td>1.349090e+09</td>\n",
       "    </tr>\n",
       "    <tr>\n",
       "      <th>116</th>\n",
       "      <td>7</td>\n",
       "      <td>1.348816e+09</td>\n",
       "      <td>1.349161e+09</td>\n",
       "      <td>1.348718e+09</td>\n",
       "    </tr>\n",
       "  </tbody>\n",
       "</table>\n",
       "</div>"
      ],
      "text/plain": [
       "     ProblemID  SoftCloseTime  HardCloseTime      openTime\n",
       "7           14   1.351235e+09   1.351584e+09  1.349793e+09\n",
       "9           12   1.350025e+09   1.350371e+09  1.349177e+09\n",
       "23          17   1.352063e+09   1.352408e+09  1.351019e+09\n",
       "24          20   1.353272e+09   1.353618e+09  1.351643e+09\n",
       "39           6   1.349420e+09   1.349766e+09  1.349090e+09\n",
       "116          7   1.348816e+09   1.349161e+09  1.348718e+09"
      ]
     },
     "execution_count": 122,
     "metadata": {},
     "output_type": "execute_result"
    }
   ],
   "source": [
    "softCloseTime_problem"
   ]
  },
  {
   "cell_type": "code",
   "execution_count": 123,
   "metadata": {},
   "outputs": [
    {
     "data": {
      "text/plain": [
       "7      349200.0\n",
       "9      345600.0\n",
       "23     345600.0\n",
       "24     345600.0\n",
       "39     345600.0\n",
       "116    345600.0\n",
       "dtype: float64"
      ]
     },
     "execution_count": 123,
     "metadata": {},
     "output_type": "execute_result"
    }
   ],
   "source": [
    "softCloseTime_problem['HardCloseTime'] - softCloseTime_problem['SoftCloseTime']"
   ]
  },
  {
   "cell_type": "code",
   "execution_count": 124,
   "metadata": {},
   "outputs": [],
   "source": [
    "average_ts_with_softclose = average_ts_user.merge(softCloseTime_problem, on='ProblemID')\n",
    "score_per_user_problem = average_ts_with_softclose.copy()\n",
    "score_per_user_problem['lateness'] = score_per_user_problem['AvgTimeStamp'] - score_per_user_problem['SoftCloseTime']\n",
    "score_per_user_problem['lateness_norm'] = score_per_user_problem['lateness'] / (score_per_user_problem['HardCloseTime'] - score_per_user_problem['openTime']) \n"
   ]
  },
  {
   "cell_type": "code",
   "execution_count": 125,
   "metadata": {},
   "outputs": [
    {
     "data": {
      "text/html": [
       "<div>\n",
       "<style scoped>\n",
       "    .dataframe tbody tr th:only-of-type {\n",
       "        vertical-align: middle;\n",
       "    }\n",
       "\n",
       "    .dataframe tbody tr th {\n",
       "        vertical-align: top;\n",
       "    }\n",
       "\n",
       "    .dataframe thead th {\n",
       "        text-align: right;\n",
       "    }\n",
       "</style>\n",
       "<table border=\"1\" class=\"dataframe\">\n",
       "  <thead>\n",
       "    <tr style=\"text-align: right;\">\n",
       "      <th></th>\n",
       "      <th>UserID</th>\n",
       "      <th>ProblemID</th>\n",
       "      <th>AvgTimeStamp</th>\n",
       "      <th>SoftCloseTime</th>\n",
       "      <th>HardCloseTime</th>\n",
       "      <th>openTime</th>\n",
       "      <th>lateness</th>\n",
       "      <th>lateness_norm</th>\n",
       "    </tr>\n",
       "  </thead>\n",
       "  <tbody>\n",
       "    <tr>\n",
       "      <th>0</th>\n",
       "      <td>964</td>\n",
       "      <td>12</td>\n",
       "      <td>1.349747e+09</td>\n",
       "      <td>1.350025e+09</td>\n",
       "      <td>1.350371e+09</td>\n",
       "      <td>1.349177e+09</td>\n",
       "      <td>-277908.0</td>\n",
       "      <td>-0.232800</td>\n",
       "    </tr>\n",
       "    <tr>\n",
       "      <th>1</th>\n",
       "      <td>1157</td>\n",
       "      <td>12</td>\n",
       "      <td>1.349393e+09</td>\n",
       "      <td>1.350025e+09</td>\n",
       "      <td>1.350371e+09</td>\n",
       "      <td>1.349177e+09</td>\n",
       "      <td>-631847.0</td>\n",
       "      <td>-0.529291</td>\n",
       "    </tr>\n",
       "    <tr>\n",
       "      <th>2</th>\n",
       "      <td>1568</td>\n",
       "      <td>12</td>\n",
       "      <td>1.350024e+09</td>\n",
       "      <td>1.350025e+09</td>\n",
       "      <td>1.350371e+09</td>\n",
       "      <td>1.349177e+09</td>\n",
       "      <td>-1262.0</td>\n",
       "      <td>-0.001057</td>\n",
       "    </tr>\n",
       "    <tr>\n",
       "      <th>3</th>\n",
       "      <td>1572</td>\n",
       "      <td>12</td>\n",
       "      <td>1.349748e+09</td>\n",
       "      <td>1.350025e+09</td>\n",
       "      <td>1.350371e+09</td>\n",
       "      <td>1.349177e+09</td>\n",
       "      <td>-277373.0</td>\n",
       "      <td>-0.232352</td>\n",
       "    </tr>\n",
       "    <tr>\n",
       "      <th>4</th>\n",
       "      <td>1584</td>\n",
       "      <td>12</td>\n",
       "      <td>1.350128e+09</td>\n",
       "      <td>1.350025e+09</td>\n",
       "      <td>1.350371e+09</td>\n",
       "      <td>1.349177e+09</td>\n",
       "      <td>102979.0</td>\n",
       "      <td>0.086264</td>\n",
       "    </tr>\n",
       "  </tbody>\n",
       "</table>\n",
       "</div>"
      ],
      "text/plain": [
       "   UserID  ProblemID  AvgTimeStamp  SoftCloseTime  HardCloseTime  \\\n",
       "0     964         12  1.349747e+09   1.350025e+09   1.350371e+09   \n",
       "1    1157         12  1.349393e+09   1.350025e+09   1.350371e+09   \n",
       "2    1568         12  1.350024e+09   1.350025e+09   1.350371e+09   \n",
       "3    1572         12  1.349748e+09   1.350025e+09   1.350371e+09   \n",
       "4    1584         12  1.350128e+09   1.350025e+09   1.350371e+09   \n",
       "\n",
       "       openTime  lateness  lateness_norm  \n",
       "0  1.349177e+09 -277908.0      -0.232800  \n",
       "1  1.349177e+09 -631847.0      -0.529291  \n",
       "2  1.349177e+09   -1262.0      -0.001057  \n",
       "3  1.349177e+09 -277373.0      -0.232352  \n",
       "4  1.349177e+09  102979.0       0.086264  "
      ]
     },
     "execution_count": 125,
     "metadata": {},
     "output_type": "execute_result"
    }
   ],
   "source": [
    "score_per_user_problem.head()"
   ]
  },
  {
   "cell_type": "code",
   "execution_count": 126,
   "metadata": {},
   "outputs": [],
   "source": [
    "accumulated_lateness_per_user = score_per_user_problem.groupby('UserID', as_index=False).sum()[['UserID', 'lateness', 'lateness_norm']]\n"
   ]
  },
  {
   "cell_type": "code",
   "execution_count": 127,
   "metadata": {},
   "outputs": [],
   "source": [
    "average_lateness_per_user = score_per_user_problem.groupby('UserID', as_index=False).mean()[['UserID', 'lateness', 'lateness_norm']]\n"
   ]
  },
  {
   "cell_type": "markdown",
   "metadata": {},
   "source": [
    "Only keeping user with all the 6 submissions"
   ]
  },
  {
   "cell_type": "code",
   "execution_count": 128,
   "metadata": {},
   "outputs": [],
   "source": [
    "accumulated_lateness_per_user_all = accumulated_lateness_per_user[accumulated_lateness_per_user['UserID'].isin(user_all_submission)]\n"
   ]
  },
  {
   "cell_type": "code",
   "execution_count": 170,
   "metadata": {
    "scrolled": true
   },
   "outputs": [
    {
     "data": {
      "text/plain": [
       "array([[<matplotlib.axes._subplots.AxesSubplot object at 0x12cbc79e8>]],\n",
       "      dtype=object)"
      ]
     },
     "execution_count": 170,
     "metadata": {},
     "output_type": "execute_result"
    },
    {
     "data": {
      "image/png": "[encoded data removed]",
      "text/plain": [
       "<Figure size 432x288 with 1 Axes>"
      ]
     },
     "metadata": {},
     "output_type": "display_data"
    }
   ],
   "source": [
    "accumulated_lateness_per_user_all.hist('lateness', bins=200)\n"
   ]
  },
  {
   "cell_type": "code",
   "execution_count": 193,
   "metadata": {},
   "outputs": [
    {
     "data": {
      "image/png": "[encoded data removed]",
      "text/plain": [
       "<Figure size 432x288 with 1 Axes>"
      ]
     },
     "metadata": {},
     "output_type": "display_data"
    }
   ],
   "source": [
    "accumulated_lateness_per_user_all.hist('lateness_norm', bins=400)\n",
    "plt.title('Normalized accumulated lateness histogram')\n",
    "plt.xlabel('Normalized accumulted lateness')\n",
    "plt.ylabel('Number of user')\n",
    "plt.xlim(-5, 12)\n",
    "plt.savefig('./tim_graph/accumulated_lateness_per_user_all_norm.png', dpi=250)"
   ]
  },
  {
   "cell_type": "code",
   "execution_count": 131,
   "metadata": {},
   "outputs": [
    {
     "data": {
      "text/plain": [
       "array([[<matplotlib.axes._subplots.AxesSubplot object at 0x1394b6e10>]],\n",
       "      dtype=object)"
      ]
     },
     "execution_count": 131,
     "metadata": {},
     "output_type": "execute_result"
    },
    {
     "data": {
      "image/png": "[encoded data removed]",
      "text/plain": [
       "<Figure size 432x288 with 1 Axes>"
      ]
     },
     "metadata": {},
     "output_type": "display_data"
    }
   ],
   "source": [
    "accumulated_lateness_per_user.hist('lateness', bins=50)"
   ]
  },
  {
   "cell_type": "code",
   "execution_count": 132,
   "metadata": {},
   "outputs": [
    {
     "data": {
      "text/plain": [
       "array([[<matplotlib.axes._subplots.AxesSubplot object at 0x13cc7a668>]],\n",
       "      dtype=object)"
      ]
     },
     "execution_count": 132,
     "metadata": {},
     "output_type": "execute_result"
    },
    {
     "data": {
      "image/png": "[encoded data removed]",
      "text/plain": [
       "<Figure size 432x288 with 1 Axes>"
      ]
     },
     "metadata": {},
     "output_type": "display_data"
    }
   ],
   "source": [
    "accumulated_lateness_per_user.hist('lateness_norm', bins=50)"
   ]
  },
  {
   "cell_type": "markdown",
   "metadata": {},
   "source": [
    "#### Getting the course grade of each user"
   ]
  },
  {
   "cell_type": "code",
   "execution_count": 133,
   "metadata": {},
   "outputs": [
    {
     "name": "stdout",
     "output_type": "stream",
     "text": [
      "53271\n"
     ]
    }
   ],
   "source": [
    "CourseID = 'progfun-2012-001' \n",
    "\n",
    "# Fetch grade history of students who took selected course\n",
    "Output = ExecuteQuery(Connector, \"\"\"\n",
    "    SELECT * \n",
    "    FROM project_how_people_learn.user_grades\n",
    "    WHERE CourseID='%s'\n",
    "\"\"\" % CourseID)\n",
    "\n",
    "# Convert output to dataframe\n",
    "grade_df = pd.DataFrame(Output, columns=['CourseID', 'UserID', 'Grade', 'AchievementLevel', 'Distinction'])\n",
    "\n",
    "# Display size and head of dataframe\n",
    "print(len(grade_df))\n"
   ]
  },
  {
   "cell_type": "code",
   "execution_count": 134,
   "metadata": {},
   "outputs": [],
   "source": [
    "grade_df['UserID'] = pd.to_numeric(grade_df['UserID'].str.strip('\\0'))"
   ]
  },
  {
   "cell_type": "code",
   "execution_count": 135,
   "metadata": {},
   "outputs": [],
   "source": [
    "grade_df = grade_df[['UserID', 'Grade', 'AchievementLevel']]"
   ]
  },
  {
   "cell_type": "code",
   "execution_count": 136,
   "metadata": {},
   "outputs": [],
   "source": [
    "merged = accumulated_lateness_per_user_all.merge(grade_df, on='UserID')"
   ]
  },
  {
   "cell_type": "code",
   "execution_count": 137,
   "metadata": {},
   "outputs": [
    {
     "data": {
      "text/html": [
       "<div>\n",
       "<style scoped>\n",
       "    .dataframe tbody tr th:only-of-type {\n",
       "        vertical-align: middle;\n",
       "    }\n",
       "\n",
       "    .dataframe tbody tr th {\n",
       "        vertical-align: top;\n",
       "    }\n",
       "\n",
       "    .dataframe thead th {\n",
       "        text-align: right;\n",
       "    }\n",
       "</style>\n",
       "<table border=\"1\" class=\"dataframe\">\n",
       "  <thead>\n",
       "    <tr style=\"text-align: right;\">\n",
       "      <th></th>\n",
       "      <th>UserID</th>\n",
       "      <th>lateness</th>\n",
       "      <th>lateness_norm</th>\n",
       "      <th>Grade</th>\n",
       "    </tr>\n",
       "  </thead>\n",
       "  <tbody>\n",
       "    <tr>\n",
       "      <th>UserID</th>\n",
       "      <td>1.000000</td>\n",
       "      <td>0.124738</td>\n",
       "      <td>0.146602</td>\n",
       "      <td>-0.144622</td>\n",
       "    </tr>\n",
       "    <tr>\n",
       "      <th>lateness</th>\n",
       "      <td>0.124738</td>\n",
       "      <td>1.000000</td>\n",
       "      <td>0.979622</td>\n",
       "      <td>-0.700931</td>\n",
       "    </tr>\n",
       "    <tr>\n",
       "      <th>lateness_norm</th>\n",
       "      <td>0.146602</td>\n",
       "      <td>0.979622</td>\n",
       "      <td>1.000000</td>\n",
       "      <td>-0.713592</td>\n",
       "    </tr>\n",
       "    <tr>\n",
       "      <th>Grade</th>\n",
       "      <td>-0.144622</td>\n",
       "      <td>-0.700931</td>\n",
       "      <td>-0.713592</td>\n",
       "      <td>1.000000</td>\n",
       "    </tr>\n",
       "  </tbody>\n",
       "</table>\n",
       "</div>"
      ],
      "text/plain": [
       "                 UserID  lateness  lateness_norm     Grade\n",
       "UserID         1.000000  0.124738       0.146602 -0.144622\n",
       "lateness       0.124738  1.000000       0.979622 -0.700931\n",
       "lateness_norm  0.146602  0.979622       1.000000 -0.713592\n",
       "Grade         -0.144622 -0.700931      -0.713592  1.000000"
      ]
     },
     "execution_count": 137,
     "metadata": {},
     "output_type": "execute_result"
    }
   ],
   "source": [
    "merged.corr('pearson')"
   ]
  },
  {
   "cell_type": "code",
   "execution_count": 138,
   "metadata": {},
   "outputs": [
    {
     "data": {
      "text/plain": [
       "<matplotlib.axes._subplots.AxesSubplot at 0x14accc5f8>"
      ]
     },
     "execution_count": 138,
     "metadata": {},
     "output_type": "execute_result"
    },
    {
     "data": {
      "image/png": "[encoded data removed]",
      "text/plain": [
       "<Figure size 432x288 with 1 Axes>"
      ]
     },
     "metadata": {},
     "output_type": "display_data"
    }
   ],
   "source": [
    "merged.plot.scatter('lateness', 'Grade')"
   ]
  },
  {
   "cell_type": "markdown",
   "metadata": {},
   "source": [
    "If we remove the user with 0 as a score"
   ]
  },
  {
   "cell_type": "code",
   "execution_count": 254,
   "metadata": {},
   "outputs": [
    {
     "data": {
      "image/png": "[encoded data removed]",
      "text/plain": [
       "<Figure size 432x288 with 1 Axes>"
      ]
     },
     "metadata": {},
     "output_type": "display_data"
    }
   ],
   "source": [
    "merged[merged['Grade'] != 0].plot.scatter('lateness_norm', 'Grade', s=5)\n",
    "plt.xlim(-3,10)\n",
    "plt.ylim(20,100)\n",
    "plt.xlabel('Lateness')\n",
    "plt.ylabel('Grade')\n",
    "plt.title('Lateness vs Grade')\n",
    "plt.savefig('./tim_graph/late_grade.png', dpi=250)"
   ]
  },
  {
   "cell_type": "code",
   "execution_count": 140,
   "metadata": {},
   "outputs": [
    {
     "data": {
      "text/html": [
       "<div>\n",
       "<style scoped>\n",
       "    .dataframe tbody tr th:only-of-type {\n",
       "        vertical-align: middle;\n",
       "    }\n",
       "\n",
       "    .dataframe tbody tr th {\n",
       "        vertical-align: top;\n",
       "    }\n",
       "\n",
       "    .dataframe thead th {\n",
       "        text-align: right;\n",
       "    }\n",
       "</style>\n",
       "<table border=\"1\" class=\"dataframe\">\n",
       "  <thead>\n",
       "    <tr style=\"text-align: right;\">\n",
       "      <th></th>\n",
       "      <th>UserID</th>\n",
       "      <th>lateness</th>\n",
       "      <th>lateness_norm</th>\n",
       "      <th>Grade</th>\n",
       "    </tr>\n",
       "  </thead>\n",
       "  <tbody>\n",
       "    <tr>\n",
       "      <th>UserID</th>\n",
       "      <td>1.000000</td>\n",
       "      <td>0.036286</td>\n",
       "      <td>0.091484</td>\n",
       "      <td>-0.087453</td>\n",
       "    </tr>\n",
       "    <tr>\n",
       "      <th>lateness</th>\n",
       "      <td>0.036286</td>\n",
       "      <td>1.000000</td>\n",
       "      <td>0.920090</td>\n",
       "      <td>-0.569064</td>\n",
       "    </tr>\n",
       "    <tr>\n",
       "      <th>lateness_norm</th>\n",
       "      <td>0.091484</td>\n",
       "      <td>0.920090</td>\n",
       "      <td>1.000000</td>\n",
       "      <td>-0.575046</td>\n",
       "    </tr>\n",
       "    <tr>\n",
       "      <th>Grade</th>\n",
       "      <td>-0.087453</td>\n",
       "      <td>-0.569064</td>\n",
       "      <td>-0.575046</td>\n",
       "      <td>1.000000</td>\n",
       "    </tr>\n",
       "  </tbody>\n",
       "</table>\n",
       "</div>"
      ],
      "text/plain": [
       "                 UserID  lateness  lateness_norm     Grade\n",
       "UserID         1.000000  0.036286       0.091484 -0.087453\n",
       "lateness       0.036286  1.000000       0.920090 -0.569064\n",
       "lateness_norm  0.091484  0.920090       1.000000 -0.575046\n",
       "Grade         -0.087453 -0.569064      -0.575046  1.000000"
      ]
     },
     "execution_count": 140,
     "metadata": {},
     "output_type": "execute_result"
    }
   ],
   "source": [
    "merged[merged['Grade'] != 0].corr(\"pearson\")"
   ]
  },
  {
   "cell_type": "code",
   "execution_count": 141,
   "metadata": {},
   "outputs": [
    {
     "data": {
      "text/html": [
       "<div>\n",
       "<style scoped>\n",
       "    .dataframe tbody tr th:only-of-type {\n",
       "        vertical-align: middle;\n",
       "    }\n",
       "\n",
       "    .dataframe tbody tr th {\n",
       "        vertical-align: top;\n",
       "    }\n",
       "\n",
       "    .dataframe thead th {\n",
       "        text-align: right;\n",
       "    }\n",
       "</style>\n",
       "<table border=\"1\" class=\"dataframe\">\n",
       "  <thead>\n",
       "    <tr style=\"text-align: right;\">\n",
       "      <th></th>\n",
       "      <th>UserID</th>\n",
       "      <th>lateness</th>\n",
       "      <th>lateness_norm</th>\n",
       "      <th>Grade</th>\n",
       "    </tr>\n",
       "  </thead>\n",
       "  <tbody>\n",
       "    <tr>\n",
       "      <th>UserID</th>\n",
       "      <td>1.000000</td>\n",
       "      <td>-0.012774</td>\n",
       "      <td>0.049986</td>\n",
       "      <td>-0.123755</td>\n",
       "    </tr>\n",
       "    <tr>\n",
       "      <th>lateness</th>\n",
       "      <td>-0.012774</td>\n",
       "      <td>1.000000</td>\n",
       "      <td>0.892953</td>\n",
       "      <td>-0.498202</td>\n",
       "    </tr>\n",
       "    <tr>\n",
       "      <th>lateness_norm</th>\n",
       "      <td>0.049986</td>\n",
       "      <td>0.892953</td>\n",
       "      <td>1.000000</td>\n",
       "      <td>-0.593790</td>\n",
       "    </tr>\n",
       "    <tr>\n",
       "      <th>Grade</th>\n",
       "      <td>-0.123755</td>\n",
       "      <td>-0.498202</td>\n",
       "      <td>-0.593790</td>\n",
       "      <td>1.000000</td>\n",
       "    </tr>\n",
       "  </tbody>\n",
       "</table>\n",
       "</div>"
      ],
      "text/plain": [
       "                 UserID  lateness  lateness_norm     Grade\n",
       "UserID         1.000000 -0.012774       0.049986 -0.123755\n",
       "lateness      -0.012774  1.000000       0.892953 -0.498202\n",
       "lateness_norm  0.049986  0.892953       1.000000 -0.593790\n",
       "Grade         -0.123755 -0.498202      -0.593790  1.000000"
      ]
     },
     "execution_count": 141,
     "metadata": {},
     "output_type": "execute_result"
    }
   ],
   "source": [
    "merged[merged['Grade'] != 0].corr(\"spearman\")"
   ]
  },
  {
   "cell_type": "code",
   "execution_count": 190,
   "metadata": {},
   "outputs": [
    {
     "data": {
      "text/plain": [
       "SpearmanrResult(correlation=-0.5937902642889087, pvalue=3.188066382208086e-214)"
      ]
     },
     "execution_count": 190,
     "metadata": {},
     "output_type": "execute_result"
    }
   ],
   "source": [
    "spearmanr(merged[merged['Grade'] != 0]['lateness_norm'], merged[merged['Grade'] != 0]['Grade'])"
   ]
  },
  {
   "cell_type": "code",
   "execution_count": 191,
   "metadata": {},
   "outputs": [
    {
     "data": {
      "text/plain": [
       "(-0.5750458529084993, 5.518043026565287e-198)"
      ]
     },
     "execution_count": 191,
     "metadata": {},
     "output_type": "execute_result"
    }
   ],
   "source": [
    "pearsonr(merged[merged['Grade'] != 0]['lateness_norm'], merged[merged['Grade'] != 0]['Grade'])"
   ]
  },
  {
   "cell_type": "markdown",
   "metadata": {},
   "source": [
    "Strong correlation.\n",
    "\n",
    "Let's have a look at the lateness of people passing the class and the one that didn't pass"
   ]
  },
  {
   "cell_type": "code",
   "execution_count": 142,
   "metadata": {},
   "outputs": [],
   "source": [
    "user_pass = merged[merged['AchievementLevel'] == 'Passed']\n",
    "user_not_pass = merged[merged['AchievementLevel'] == 'Failed']"
   ]
  },
  {
   "cell_type": "code",
   "execution_count": 143,
   "metadata": {},
   "outputs": [
    {
     "data": {
      "text/plain": [
       "array([[<matplotlib.axes._subplots.AxesSubplot object at 0x13d5cbc18>]],\n",
       "      dtype=object)"
      ]
     },
     "execution_count": 143,
     "metadata": {},
     "output_type": "execute_result"
    },
    {
     "data": {
      "image/png": "[encoded data removed]",
      "text/plain": [
       "<Figure size 432x288 with 1 Axes>"
      ]
     },
     "metadata": {},
     "output_type": "display_data"
    }
   ],
   "source": [
    "user_pass.hist('lateness', bins=40)"
   ]
  },
  {
   "cell_type": "code",
   "execution_count": 144,
   "metadata": {
    "scrolled": true
   },
   "outputs": [
    {
     "data": {
      "text/plain": [
       "array([[<matplotlib.axes._subplots.AxesSubplot object at 0x14adaeac8>]],\n",
       "      dtype=object)"
      ]
     },
     "execution_count": 144,
     "metadata": {},
     "output_type": "execute_result"
    },
    {
     "data": {
      "image/png": "[encoded data removed]",
      "text/plain": [
       "<Figure size 432x288 with 1 Axes>"
      ]
     },
     "metadata": {},
     "output_type": "display_data"
    }
   ],
   "source": [
    "user_not_pass.hist('lateness', bins=40)"
   ]
  },
  {
   "cell_type": "code",
   "execution_count": 145,
   "metadata": {
    "scrolled": true
   },
   "outputs": [
    {
     "data": {
      "text/plain": [
       "array([[<matplotlib.axes._subplots.AxesSubplot object at 0x14af68630>]],\n",
       "      dtype=object)"
      ]
     },
     "execution_count": 145,
     "metadata": {},
     "output_type": "execute_result"
    },
    {
     "data": {
      "image/png": "[encoded data removed]",
      "text/plain": [
       "<Figure size 432x288 with 1 Axes>"
      ]
     },
     "metadata": {},
     "output_type": "display_data"
    }
   ],
   "source": [
    "user_pass.hist('lateness_norm', bins=40)"
   ]
  },
  {
   "cell_type": "code",
   "execution_count": 146,
   "metadata": {},
   "outputs": [
    {
     "data": {
      "text/plain": [
       "array([[<matplotlib.axes._subplots.AxesSubplot object at 0x14b031fd0>]],\n",
       "      dtype=object)"
      ]
     },
     "execution_count": 146,
     "metadata": {},
     "output_type": "execute_result"
    },
    {
     "data": {
      "image/png": "[encoded data removed]",
      "text/plain": [
       "<Figure size 432x288 with 1 Axes>"
      ]
     },
     "metadata": {},
     "output_type": "display_data"
    }
   ],
   "source": [
    "user_not_pass.hist('lateness_norm', bins=40)"
   ]
  },
  {
   "cell_type": "code",
   "execution_count": 147,
   "metadata": {},
   "outputs": [
    {
     "data": {
      "text/plain": [
       "Ttest_indResult(statistic=32.169965856360356, pvalue=7.508439927016018e-188)"
      ]
     },
     "execution_count": 147,
     "metadata": {},
     "output_type": "execute_result"
    }
   ],
   "source": [
    "ttest_ind(user_not_pass['lateness'], user_pass['lateness'])"
   ]
  },
  {
   "cell_type": "code",
   "execution_count": 148,
   "metadata": {},
   "outputs": [
    {
     "name": "stdout",
     "output_type": "stream",
     "text": [
      "2057\n",
      "248\n"
     ]
    }
   ],
   "source": [
    "print(len(user_pass))\n",
    "print(len(user_not_pass))"
   ]
  },
  {
   "cell_type": "markdown",
   "metadata": {},
   "source": [
    "We can see that in the population of the user that submitted the 7 assignements but didn't pass the class, there is a big shift to the right in lateness => they didn't submit the assignement on time"
   ]
  },
  {
   "cell_type": "markdown",
   "metadata": {},
   "source": [
    "We'll know have a look between the lateness of the people passing the class with an average of >80% and less than 80%"
   ]
  },
  {
   "cell_type": "code",
   "execution_count": 331,
   "metadata": {},
   "outputs": [],
   "source": [
    "user_pass_g_80 = user_pass[user_pass['Grade'] >= 90]\n",
    "user_pass_l_80 = user_pass[user_pass['Grade'] < 90]"
   ]
  },
  {
   "cell_type": "code",
   "execution_count": 354,
   "metadata": {},
   "outputs": [
    {
     "data": {
      "image/png": "[encoded data removed]",
      "text/plain": [
       "<Figure size 432x288 with 1 Axes>"
      ]
     },
     "metadata": {},
     "output_type": "display_data"
    }
   ],
   "source": [
    "plt.hist(user_pass_g_80['lateness_norm'], bins=350, alpha=1, label='≥ 90%')\n",
    "plt.hist(user_pass_l_80['lateness_norm'], bins=350, alpha=.75, label='< 90%')\n",
    "plt.xlim(-3, 5)\n",
    "plt.title('Distribution of student with a grade higher than 90% vs smaller than 90%')\n",
    "plt.xlabel('Lateness')\n",
    "plt.ylabel('Number of students')\n",
    "plt.legend(loc='upper right')\n",
    "plt.savefig('./tim_graph/grade90_lateness.png', dpi=250)\n",
    "plt.show()"
   ]
  },
  {
   "cell_type": "code",
   "execution_count": 333,
   "metadata": {},
   "outputs": [
    {
     "data": {
      "text/plain": [
       "(-3, 3)"
      ]
     },
     "execution_count": 333,
     "metadata": {},
     "output_type": "execute_result"
    },
    {
     "data": {
      "image/png": "[encoded data removed]",
      "text/plain": [
       "<Figure size 432x288 with 1 Axes>"
      ]
     },
     "metadata": {},
     "output_type": "display_data"
    }
   ],
   "source": [
    "user_pass_g_80.hist('lateness_norm', bins=250)\n",
    "plt.xlim(-3,3)"
   ]
  },
  {
   "cell_type": "code",
   "execution_count": 334,
   "metadata": {
    "scrolled": true
   },
   "outputs": [
    {
     "data": {
      "text/plain": [
       "(-3, 3)"
      ]
     },
     "execution_count": 334,
     "metadata": {},
     "output_type": "execute_result"
    },
    {
     "data": {
      "image/png": "[encoded data removed]",
      "text/plain": [
       "<Figure size 432x288 with 1 Axes>"
      ]
     },
     "metadata": {},
     "output_type": "display_data"
    }
   ],
   "source": [
    "user_pass_l_80.hist('lateness_norm', bins=250)\n",
    "plt.xlim(-3,3)"
   ]
  },
  {
   "cell_type": "code",
   "execution_count": 335,
   "metadata": {},
   "outputs": [
    {
     "data": {
      "text/plain": [
       "Ttest_indResult(statistic=18.082236283932836, pvalue=6.13773065023623e-68)"
      ]
     },
     "execution_count": 335,
     "metadata": {},
     "output_type": "execute_result"
    }
   ],
   "source": [
    "ttest_ind(user_pass_l_80['lateness_norm'], user_pass_g_80['lateness_norm'])"
   ]
  },
  {
   "cell_type": "code",
   "execution_count": 336,
   "metadata": {},
   "outputs": [
    {
     "data": {
      "text/html": [
       "<div>\n",
       "<style scoped>\n",
       "    .dataframe tbody tr th:only-of-type {\n",
       "        vertical-align: middle;\n",
       "    }\n",
       "\n",
       "    .dataframe tbody tr th {\n",
       "        vertical-align: top;\n",
       "    }\n",
       "\n",
       "    .dataframe thead th {\n",
       "        text-align: right;\n",
       "    }\n",
       "</style>\n",
       "<table border=\"1\" class=\"dataframe\">\n",
       "  <thead>\n",
       "    <tr style=\"text-align: right;\">\n",
       "      <th></th>\n",
       "      <th>UserID</th>\n",
       "      <th>lateness</th>\n",
       "      <th>lateness_norm</th>\n",
       "      <th>Grade</th>\n",
       "    </tr>\n",
       "  </thead>\n",
       "  <tbody>\n",
       "    <tr>\n",
       "      <th>count</th>\n",
       "      <td>1.111000e+03</td>\n",
       "      <td>1.111000e+03</td>\n",
       "      <td>1111.000000</td>\n",
       "      <td>1111.000000</td>\n",
       "    </tr>\n",
       "    <tr>\n",
       "      <th>mean</th>\n",
       "      <td>8.852854e+05</td>\n",
       "      <td>-1.330668e+06</td>\n",
       "      <td>-0.864690</td>\n",
       "      <td>96.696917</td>\n",
       "    </tr>\n",
       "    <tr>\n",
       "      <th>std</th>\n",
       "      <td>5.481643e+05</td>\n",
       "      <td>9.806412e+05</td>\n",
       "      <td>0.889235</td>\n",
       "      <td>3.302903</td>\n",
       "    </tr>\n",
       "    <tr>\n",
       "      <th>min</th>\n",
       "      <td>1.641000e+03</td>\n",
       "      <td>-4.799645e+06</td>\n",
       "      <td>-3.377674</td>\n",
       "      <td>90.000000</td>\n",
       "    </tr>\n",
       "    <tr>\n",
       "      <th>25%</th>\n",
       "      <td>3.065045e+05</td>\n",
       "      <td>-1.854999e+06</td>\n",
       "      <td>-1.271205</td>\n",
       "      <td>94.356250</td>\n",
       "    </tr>\n",
       "    <tr>\n",
       "      <th>50%</th>\n",
       "      <td>1.081157e+06</td>\n",
       "      <td>-1.193776e+06</td>\n",
       "      <td>-0.802034</td>\n",
       "      <td>97.500000</td>\n",
       "    </tr>\n",
       "    <tr>\n",
       "      <th>75%</th>\n",
       "      <td>1.356689e+06</td>\n",
       "      <td>-6.913209e+05</td>\n",
       "      <td>-0.482929</td>\n",
       "      <td>100.000000</td>\n",
       "    </tr>\n",
       "    <tr>\n",
       "      <th>max</th>\n",
       "      <td>1.542593e+06</td>\n",
       "      <td>1.160256e+07</td>\n",
       "      <td>16.003840</td>\n",
       "      <td>100.000000</td>\n",
       "    </tr>\n",
       "  </tbody>\n",
       "</table>\n",
       "</div>"
      ],
      "text/plain": [
       "             UserID      lateness  lateness_norm        Grade\n",
       "count  1.111000e+03  1.111000e+03    1111.000000  1111.000000\n",
       "mean   8.852854e+05 -1.330668e+06      -0.864690    96.696917\n",
       "std    5.481643e+05  9.806412e+05       0.889235     3.302903\n",
       "min    1.641000e+03 -4.799645e+06      -3.377674    90.000000\n",
       "25%    3.065045e+05 -1.854999e+06      -1.271205    94.356250\n",
       "50%    1.081157e+06 -1.193776e+06      -0.802034    97.500000\n",
       "75%    1.356689e+06 -6.913209e+05      -0.482929   100.000000\n",
       "max    1.542593e+06  1.160256e+07      16.003840   100.000000"
      ]
     },
     "execution_count": 336,
     "metadata": {},
     "output_type": "execute_result"
    }
   ],
   "source": [
    "user_pass_g_80.describe()"
   ]
  },
  {
   "cell_type": "code",
   "execution_count": 337,
   "metadata": {},
   "outputs": [
    {
     "data": {
      "text/html": [
       "<div>\n",
       "<style scoped>\n",
       "    .dataframe tbody tr th:only-of-type {\n",
       "        vertical-align: middle;\n",
       "    }\n",
       "\n",
       "    .dataframe tbody tr th {\n",
       "        vertical-align: top;\n",
       "    }\n",
       "\n",
       "    .dataframe thead th {\n",
       "        text-align: right;\n",
       "    }\n",
       "</style>\n",
       "<table border=\"1\" class=\"dataframe\">\n",
       "  <thead>\n",
       "    <tr style=\"text-align: right;\">\n",
       "      <th></th>\n",
       "      <th>UserID</th>\n",
       "      <th>lateness</th>\n",
       "      <th>lateness_norm</th>\n",
       "      <th>Grade</th>\n",
       "    </tr>\n",
       "  </thead>\n",
       "  <tbody>\n",
       "    <tr>\n",
       "      <th>count</th>\n",
       "      <td>9.460000e+02</td>\n",
       "      <td>9.460000e+02</td>\n",
       "      <td>946.000000</td>\n",
       "      <td>946.000000</td>\n",
       "    </tr>\n",
       "    <tr>\n",
       "      <th>mean</th>\n",
       "      <td>9.697824e+05</td>\n",
       "      <td>-5.694595e+05</td>\n",
       "      <td>0.169331</td>\n",
       "      <td>78.578433</td>\n",
       "    </tr>\n",
       "    <tr>\n",
       "      <th>std</th>\n",
       "      <td>5.587352e+05</td>\n",
       "      <td>1.140926e+06</td>\n",
       "      <td>1.644544</td>\n",
       "      <td>8.358109</td>\n",
       "    </tr>\n",
       "    <tr>\n",
       "      <th>min</th>\n",
       "      <td>1.701000e+03</td>\n",
       "      <td>-4.239429e+06</td>\n",
       "      <td>-2.924353</td>\n",
       "      <td>59.925000</td>\n",
       "    </tr>\n",
       "    <tr>\n",
       "      <th>25%</th>\n",
       "      <td>4.750108e+05</td>\n",
       "      <td>-1.115718e+06</td>\n",
       "      <td>-0.594131</td>\n",
       "      <td>72.500000</td>\n",
       "    </tr>\n",
       "    <tr>\n",
       "      <th>50%</th>\n",
       "      <td>1.246350e+06</td>\n",
       "      <td>-5.213085e+05</td>\n",
       "      <td>-0.174292</td>\n",
       "      <td>80.000000</td>\n",
       "    </tr>\n",
       "    <tr>\n",
       "      <th>75%</th>\n",
       "      <td>1.433078e+06</td>\n",
       "      <td>-2.686131e+04</td>\n",
       "      <td>0.355315</td>\n",
       "      <td>85.722500</td>\n",
       "    </tr>\n",
       "    <tr>\n",
       "      <th>max</th>\n",
       "      <td>1.691646e+06</td>\n",
       "      <td>8.156821e+06</td>\n",
       "      <td>18.659620</td>\n",
       "      <td>89.995000</td>\n",
       "    </tr>\n",
       "  </tbody>\n",
       "</table>\n",
       "</div>"
      ],
      "text/plain": [
       "             UserID      lateness  lateness_norm       Grade\n",
       "count  9.460000e+02  9.460000e+02     946.000000  946.000000\n",
       "mean   9.697824e+05 -5.694595e+05       0.169331   78.578433\n",
       "std    5.587352e+05  1.140926e+06       1.644544    8.358109\n",
       "min    1.701000e+03 -4.239429e+06      -2.924353   59.925000\n",
       "25%    4.750108e+05 -1.115718e+06      -0.594131   72.500000\n",
       "50%    1.246350e+06 -5.213085e+05      -0.174292   80.000000\n",
       "75%    1.433078e+06 -2.686131e+04       0.355315   85.722500\n",
       "max    1.691646e+06  8.156821e+06      18.659620   89.995000"
      ]
     },
     "execution_count": 337,
     "metadata": {},
     "output_type": "execute_result"
    }
   ],
   "source": [
    "user_pass_l_80.describe()"
   ]
  },
  {
   "cell_type": "code",
   "execution_count": 338,
   "metadata": {},
   "outputs": [
    {
     "data": {
      "text/plain": [
       "1111"
      ]
     },
     "execution_count": 338,
     "metadata": {},
     "output_type": "execute_result"
    }
   ],
   "source": [
    "len(user_pass_g_80)"
   ]
  },
  {
   "cell_type": "code",
   "execution_count": 339,
   "metadata": {},
   "outputs": [
    {
     "data": {
      "text/plain": [
       "946"
      ]
     },
     "execution_count": 339,
     "metadata": {},
     "output_type": "execute_result"
    }
   ],
   "source": [
    "len(user_pass_l_80)"
   ]
  },
  {
   "cell_type": "markdown",
   "metadata": {},
   "source": [
    "We observe the same phenomena"
   ]
  },
  {
   "cell_type": "code",
   "execution_count": 155,
   "metadata": {},
   "outputs": [
    {
     "data": {
      "text/html": [
       "<div>\n",
       "<style scoped>\n",
       "    .dataframe tbody tr th:only-of-type {\n",
       "        vertical-align: middle;\n",
       "    }\n",
       "\n",
       "    .dataframe tbody tr th {\n",
       "        vertical-align: top;\n",
       "    }\n",
       "\n",
       "    .dataframe thead th {\n",
       "        text-align: right;\n",
       "    }\n",
       "</style>\n",
       "<table border=\"1\" class=\"dataframe\">\n",
       "  <thead>\n",
       "    <tr style=\"text-align: right;\">\n",
       "      <th></th>\n",
       "      <th>ProblemID</th>\n",
       "      <th>openTime</th>\n",
       "      <th>SoftCloseTime</th>\n",
       "      <th>HardCloseTime</th>\n",
       "    </tr>\n",
       "  </thead>\n",
       "  <tbody>\n",
       "    <tr>\n",
       "      <th>7</th>\n",
       "      <td>14</td>\n",
       "      <td>1.349793e+09</td>\n",
       "      <td>1.351235e+09</td>\n",
       "      <td>1.351584e+09</td>\n",
       "    </tr>\n",
       "    <tr>\n",
       "      <th>9</th>\n",
       "      <td>12</td>\n",
       "      <td>1.349177e+09</td>\n",
       "      <td>1.350025e+09</td>\n",
       "      <td>1.350371e+09</td>\n",
       "    </tr>\n",
       "    <tr>\n",
       "      <th>23</th>\n",
       "      <td>17</td>\n",
       "      <td>1.351019e+09</td>\n",
       "      <td>1.352063e+09</td>\n",
       "      <td>1.352408e+09</td>\n",
       "    </tr>\n",
       "    <tr>\n",
       "      <th>24</th>\n",
       "      <td>20</td>\n",
       "      <td>1.351643e+09</td>\n",
       "      <td>1.353272e+09</td>\n",
       "      <td>1.353618e+09</td>\n",
       "    </tr>\n",
       "    <tr>\n",
       "      <th>39</th>\n",
       "      <td>6</td>\n",
       "      <td>1.349090e+09</td>\n",
       "      <td>1.349420e+09</td>\n",
       "      <td>1.349766e+09</td>\n",
       "    </tr>\n",
       "    <tr>\n",
       "      <th>116</th>\n",
       "      <td>7</td>\n",
       "      <td>1.348718e+09</td>\n",
       "      <td>1.348816e+09</td>\n",
       "      <td>1.349161e+09</td>\n",
       "    </tr>\n",
       "  </tbody>\n",
       "</table>\n",
       "</div>"
      ],
      "text/plain": [
       "     ProblemID      openTime  SoftCloseTime  HardCloseTime\n",
       "7           14  1.349793e+09   1.351235e+09   1.351584e+09\n",
       "9           12  1.349177e+09   1.350025e+09   1.350371e+09\n",
       "23          17  1.351019e+09   1.352063e+09   1.352408e+09\n",
       "24          20  1.351643e+09   1.353272e+09   1.353618e+09\n",
       "39           6  1.349090e+09   1.349420e+09   1.349766e+09\n",
       "116          7  1.348718e+09   1.348816e+09   1.349161e+09"
      ]
     },
     "execution_count": 155,
     "metadata": {},
     "output_type": "execute_result"
    }
   ],
   "source": [
    "t = submissions[['ProblemID', 'openTime', 'SoftCloseTime', 'HardCloseTime']].drop_duplicates()\n",
    "t"
   ]
  },
  {
   "cell_type": "markdown",
   "metadata": {},
   "source": [
    "### Compare lateness of user that dropped the class with the one that passed"
   ]
  },
  {
   "cell_type": "markdown",
   "metadata": {},
   "source": [
    "A user that dropped the class is defined as a user that doesn't submit all assignements but submitted at least one"
   ]
  },
  {
   "cell_type": "code",
   "execution_count": 156,
   "metadata": {},
   "outputs": [],
   "source": [
    "user_not_all_submission = count_submissions[(count_submissions['count'] < numberProblems)]['UserID']\n"
   ]
  },
  {
   "cell_type": "code",
   "execution_count": 157,
   "metadata": {},
   "outputs": [],
   "source": [
    "average_lateness_per_user_not_all = average_lateness_per_user[average_lateness_per_user['UserID'].isin(user_not_all_submission)]\n",
    "average_lateness_per_user_all = average_lateness_per_user[average_lateness_per_user['UserID'].isin(user_all_submission)]\n"
   ]
  },
  {
   "cell_type": "code",
   "execution_count": 158,
   "metadata": {},
   "outputs": [
    {
     "data": {
      "text/plain": [
       "14087"
      ]
     },
     "execution_count": 158,
     "metadata": {},
     "output_type": "execute_result"
    }
   ],
   "source": [
    "len(user_not_all_submission)"
   ]
  },
  {
   "cell_type": "code",
   "execution_count": 159,
   "metadata": {},
   "outputs": [
    {
     "data": {
      "text/plain": [
       "2313"
      ]
     },
     "execution_count": 159,
     "metadata": {},
     "output_type": "execute_result"
    }
   ],
   "source": [
    "len(user_all_submission)"
   ]
  },
  {
   "cell_type": "code",
   "execution_count": 160,
   "metadata": {},
   "outputs": [
    {
     "data": {
      "text/plain": [
       "Ttest_indResult(statistic=-3.7573032518308396, pvalue=0.00017234916450560998)"
      ]
     },
     "execution_count": 160,
     "metadata": {},
     "output_type": "execute_result"
    }
   ],
   "source": [
    "ttest_ind(average_lateness_per_user_all['lateness_norm'], average_lateness_per_user_not_all['lateness_norm'])"
   ]
  },
  {
   "cell_type": "code",
   "execution_count": 161,
   "metadata": {},
   "outputs": [
    {
     "data": {
      "text/html": [
       "<div>\n",
       "<style scoped>\n",
       "    .dataframe tbody tr th:only-of-type {\n",
       "        vertical-align: middle;\n",
       "    }\n",
       "\n",
       "    .dataframe tbody tr th {\n",
       "        vertical-align: top;\n",
       "    }\n",
       "\n",
       "    .dataframe thead th {\n",
       "        text-align: right;\n",
       "    }\n",
       "</style>\n",
       "<table border=\"1\" class=\"dataframe\">\n",
       "  <thead>\n",
       "    <tr style=\"text-align: right;\">\n",
       "      <th></th>\n",
       "      <th>UserID</th>\n",
       "      <th>lateness</th>\n",
       "      <th>lateness_norm</th>\n",
       "    </tr>\n",
       "  </thead>\n",
       "  <tbody>\n",
       "    <tr>\n",
       "      <th>count</th>\n",
       "      <td>2.313000e+03</td>\n",
       "      <td>2.313000e+03</td>\n",
       "      <td>2313.000000</td>\n",
       "    </tr>\n",
       "    <tr>\n",
       "      <th>mean</th>\n",
       "      <td>9.477666e+05</td>\n",
       "      <td>-2.532948e+03</td>\n",
       "      <td>0.116541</td>\n",
       "    </tr>\n",
       "    <tr>\n",
       "      <th>std</th>\n",
       "      <td>5.683309e+05</td>\n",
       "      <td>8.077415e+05</td>\n",
       "      <td>0.898230</td>\n",
       "    </tr>\n",
       "    <tr>\n",
       "      <th>min</th>\n",
       "      <td>1.641000e+03</td>\n",
       "      <td>-7.999408e+05</td>\n",
       "      <td>-0.562946</td>\n",
       "    </tr>\n",
       "    <tr>\n",
       "      <th>25%</th>\n",
       "      <td>3.880780e+05</td>\n",
       "      <td>-2.530285e+05</td>\n",
       "      <td>-0.162426</td>\n",
       "    </tr>\n",
       "    <tr>\n",
       "      <th>50%</th>\n",
       "      <td>1.195926e+06</td>\n",
       "      <td>-1.327740e+05</td>\n",
       "      <td>-0.083914</td>\n",
       "    </tr>\n",
       "    <tr>\n",
       "      <th>75%</th>\n",
       "      <td>1.405185e+06</td>\n",
       "      <td>-3.570142e+04</td>\n",
       "      <td>0.005988</td>\n",
       "    </tr>\n",
       "    <tr>\n",
       "      <th>max</th>\n",
       "      <td>2.088243e+06</td>\n",
       "      <td>8.109404e+06</td>\n",
       "      <td>9.483495</td>\n",
       "    </tr>\n",
       "  </tbody>\n",
       "</table>\n",
       "</div>"
      ],
      "text/plain": [
       "             UserID      lateness  lateness_norm\n",
       "count  2.313000e+03  2.313000e+03    2313.000000\n",
       "mean   9.477666e+05 -2.532948e+03       0.116541\n",
       "std    5.683309e+05  8.077415e+05       0.898230\n",
       "min    1.641000e+03 -7.999408e+05      -0.562946\n",
       "25%    3.880780e+05 -2.530285e+05      -0.162426\n",
       "50%    1.195926e+06 -1.327740e+05      -0.083914\n",
       "75%    1.405185e+06 -3.570142e+04       0.005988\n",
       "max    2.088243e+06  8.109404e+06       9.483495"
      ]
     },
     "execution_count": 161,
     "metadata": {},
     "output_type": "execute_result"
    }
   ],
   "source": [
    "average_lateness_per_user_all.describe()"
   ]
  },
  {
   "cell_type": "code",
   "execution_count": 162,
   "metadata": {
    "scrolled": false
   },
   "outputs": [
    {
     "data": {
      "text/html": [
       "<div>\n",
       "<style scoped>\n",
       "    .dataframe tbody tr th:only-of-type {\n",
       "        vertical-align: middle;\n",
       "    }\n",
       "\n",
       "    .dataframe tbody tr th {\n",
       "        vertical-align: top;\n",
       "    }\n",
       "\n",
       "    .dataframe thead th {\n",
       "        text-align: right;\n",
       "    }\n",
       "</style>\n",
       "<table border=\"1\" class=\"dataframe\">\n",
       "  <thead>\n",
       "    <tr style=\"text-align: right;\">\n",
       "      <th></th>\n",
       "      <th>UserID</th>\n",
       "      <th>lateness</th>\n",
       "      <th>lateness_norm</th>\n",
       "    </tr>\n",
       "  </thead>\n",
       "  <tbody>\n",
       "    <tr>\n",
       "      <th>count</th>\n",
       "      <td>1.408700e+04</td>\n",
       "      <td>1.408700e+04</td>\n",
       "      <td>14087.000000</td>\n",
       "    </tr>\n",
       "    <tr>\n",
       "      <th>mean</th>\n",
       "      <td>8.353073e+05</td>\n",
       "      <td>-1.823619e+04</td>\n",
       "      <td>0.283344</td>\n",
       "    </tr>\n",
       "    <tr>\n",
       "      <th>std</th>\n",
       "      <td>5.371412e+05</td>\n",
       "      <td>1.219790e+06</td>\n",
       "      <td>2.103794</td>\n",
       "    </tr>\n",
       "    <tr>\n",
       "      <th>min</th>\n",
       "      <td>9.640000e+02</td>\n",
       "      <td>-1.315114e+06</td>\n",
       "      <td>-0.763666</td>\n",
       "    </tr>\n",
       "    <tr>\n",
       "      <th>25%</th>\n",
       "      <td>2.382095e+05</td>\n",
       "      <td>-4.914481e+05</td>\n",
       "      <td>-0.333542</td>\n",
       "    </tr>\n",
       "    <tr>\n",
       "      <th>50%</th>\n",
       "      <td>8.887240e+05</td>\n",
       "      <td>-1.635383e+05</td>\n",
       "      <td>-0.140077</td>\n",
       "    </tr>\n",
       "    <tr>\n",
       "      <th>75%</th>\n",
       "      <td>1.338060e+06</td>\n",
       "      <td>1.500000e+04</td>\n",
       "      <td>0.030067</td>\n",
       "    </tr>\n",
       "    <tr>\n",
       "      <th>max</th>\n",
       "      <td>2.127600e+06</td>\n",
       "      <td>1.308694e+07</td>\n",
       "      <td>29.499414</td>\n",
       "    </tr>\n",
       "  </tbody>\n",
       "</table>\n",
       "</div>"
      ],
      "text/plain": [
       "             UserID      lateness  lateness_norm\n",
       "count  1.408700e+04  1.408700e+04   14087.000000\n",
       "mean   8.353073e+05 -1.823619e+04       0.283344\n",
       "std    5.371412e+05  1.219790e+06       2.103794\n",
       "min    9.640000e+02 -1.315114e+06      -0.763666\n",
       "25%    2.382095e+05 -4.914481e+05      -0.333542\n",
       "50%    8.887240e+05 -1.635383e+05      -0.140077\n",
       "75%    1.338060e+06  1.500000e+04       0.030067\n",
       "max    2.127600e+06  1.308694e+07      29.499414"
      ]
     },
     "execution_count": 162,
     "metadata": {},
     "output_type": "execute_result"
    }
   ],
   "source": [
    "average_lateness_per_user_not_all.describe()"
   ]
  },
  {
   "cell_type": "code",
   "execution_count": 343,
   "metadata": {},
   "outputs": [
    {
     "data": {
      "text/plain": [
       "(-1, 3)"
      ]
     },
     "execution_count": 343,
     "metadata": {},
     "output_type": "execute_result"
    },
    {
     "data": {
      "image/png": "[encoded data removed]",
      "text/plain": [
       "<Figure size 432x288 with 1 Axes>"
      ]
     },
     "metadata": {},
     "output_type": "display_data"
    }
   ],
   "source": [
    "average_lateness_per_user_all.hist('lateness_norm', bins=350)\n",
    "plt.xlim(-1, 3)"
   ]
  },
  {
   "cell_type": "code",
   "execution_count": 350,
   "metadata": {},
   "outputs": [
    {
     "data": {
      "text/plain": [
       "(-1, 3)"
      ]
     },
     "execution_count": 350,
     "metadata": {},
     "output_type": "execute_result"
    },
    {
     "data": {
      "image/png": "[encoded data removed]",
      "text/plain": [
       "<Figure size 432x288 with 1 Axes>"
      ]
     },
     "metadata": {},
     "output_type": "display_data"
    }
   ],
   "source": [
    "average_lateness_per_user_not_all.hist('lateness_norm', bins=1200)\n",
    "plt.xlim(-1, 3)"
   ]
  },
  {
   "cell_type": "code",
   "execution_count": 165,
   "metadata": {},
   "outputs": [
    {
     "data": {
      "text/plain": [
       "2313"
      ]
     },
     "execution_count": 165,
     "metadata": {},
     "output_type": "execute_result"
    }
   ],
   "source": [
    "len(user_all_submission)"
   ]
  },
  {
   "cell_type": "code",
   "execution_count": 166,
   "metadata": {},
   "outputs": [
    {
     "data": {
      "text/html": [
       "<div>\n",
       "<style scoped>\n",
       "    .dataframe tbody tr th:only-of-type {\n",
       "        vertical-align: middle;\n",
       "    }\n",
       "\n",
       "    .dataframe tbody tr th {\n",
       "        vertical-align: top;\n",
       "    }\n",
       "\n",
       "    .dataframe thead th {\n",
       "        text-align: right;\n",
       "    }\n",
       "</style>\n",
       "<table border=\"1\" class=\"dataframe\">\n",
       "  <thead>\n",
       "    <tr style=\"text-align: right;\">\n",
       "      <th></th>\n",
       "      <th>UserID</th>\n",
       "      <th>lateness</th>\n",
       "      <th>lateness_norm</th>\n",
       "      <th>Grade</th>\n",
       "    </tr>\n",
       "  </thead>\n",
       "  <tbody>\n",
       "    <tr>\n",
       "      <th>UserID</th>\n",
       "      <td>1.000000</td>\n",
       "      <td>0.105778</td>\n",
       "      <td>0.101918</td>\n",
       "      <td>-0.039077</td>\n",
       "    </tr>\n",
       "    <tr>\n",
       "      <th>lateness</th>\n",
       "      <td>0.105778</td>\n",
       "      <td>1.000000</td>\n",
       "      <td>0.953235</td>\n",
       "      <td>-0.528635</td>\n",
       "    </tr>\n",
       "    <tr>\n",
       "      <th>lateness_norm</th>\n",
       "      <td>0.101918</td>\n",
       "      <td>0.953235</td>\n",
       "      <td>1.000000</td>\n",
       "      <td>-0.424376</td>\n",
       "    </tr>\n",
       "    <tr>\n",
       "      <th>Grade</th>\n",
       "      <td>-0.039077</td>\n",
       "      <td>-0.528635</td>\n",
       "      <td>-0.424376</td>\n",
       "      <td>1.000000</td>\n",
       "    </tr>\n",
       "  </tbody>\n",
       "</table>\n",
       "</div>"
      ],
      "text/plain": [
       "                 UserID  lateness  lateness_norm     Grade\n",
       "UserID         1.000000  0.105778       0.101918 -0.039077\n",
       "lateness       0.105778  1.000000       0.953235 -0.528635\n",
       "lateness_norm  0.101918  0.953235       1.000000 -0.424376\n",
       "Grade         -0.039077 -0.528635      -0.424376  1.000000"
      ]
     },
     "execution_count": 166,
     "metadata": {},
     "output_type": "execute_result"
    }
   ],
   "source": [
    "average_lateness_per_user.merge(grade_df, on=\"UserID\").corr()"
   ]
  },
  {
   "cell_type": "code",
   "execution_count": 167,
   "metadata": {},
   "outputs": [
    {
     "data": {
      "text/html": [
       "<div>\n",
       "<style scoped>\n",
       "    .dataframe tbody tr th:only-of-type {\n",
       "        vertical-align: middle;\n",
       "    }\n",
       "\n",
       "    .dataframe tbody tr th {\n",
       "        vertical-align: top;\n",
       "    }\n",
       "\n",
       "    .dataframe thead th {\n",
       "        text-align: right;\n",
       "    }\n",
       "</style>\n",
       "<table border=\"1\" class=\"dataframe\">\n",
       "  <thead>\n",
       "    <tr style=\"text-align: right;\">\n",
       "      <th></th>\n",
       "      <th>UserID</th>\n",
       "      <th>lateness</th>\n",
       "      <th>lateness_norm</th>\n",
       "    </tr>\n",
       "  </thead>\n",
       "  <tbody>\n",
       "    <tr>\n",
       "      <th>count</th>\n",
       "      <td>2.313000e+03</td>\n",
       "      <td>2.313000e+03</td>\n",
       "      <td>2313.000000</td>\n",
       "    </tr>\n",
       "    <tr>\n",
       "      <th>mean</th>\n",
       "      <td>9.477666e+05</td>\n",
       "      <td>-2.532948e+03</td>\n",
       "      <td>0.116541</td>\n",
       "    </tr>\n",
       "    <tr>\n",
       "      <th>std</th>\n",
       "      <td>5.683309e+05</td>\n",
       "      <td>8.077415e+05</td>\n",
       "      <td>0.898230</td>\n",
       "    </tr>\n",
       "    <tr>\n",
       "      <th>min</th>\n",
       "      <td>1.641000e+03</td>\n",
       "      <td>-7.999408e+05</td>\n",
       "      <td>-0.562946</td>\n",
       "    </tr>\n",
       "    <tr>\n",
       "      <th>25%</th>\n",
       "      <td>3.880780e+05</td>\n",
       "      <td>-2.530285e+05</td>\n",
       "      <td>-0.162426</td>\n",
       "    </tr>\n",
       "    <tr>\n",
       "      <th>50%</th>\n",
       "      <td>1.195926e+06</td>\n",
       "      <td>-1.327740e+05</td>\n",
       "      <td>-0.083914</td>\n",
       "    </tr>\n",
       "    <tr>\n",
       "      <th>75%</th>\n",
       "      <td>1.405185e+06</td>\n",
       "      <td>-3.570142e+04</td>\n",
       "      <td>0.005988</td>\n",
       "    </tr>\n",
       "    <tr>\n",
       "      <th>max</th>\n",
       "      <td>2.088243e+06</td>\n",
       "      <td>8.109404e+06</td>\n",
       "      <td>9.483495</td>\n",
       "    </tr>\n",
       "  </tbody>\n",
       "</table>\n",
       "</div>"
      ],
      "text/plain": [
       "             UserID      lateness  lateness_norm\n",
       "count  2.313000e+03  2.313000e+03    2313.000000\n",
       "mean   9.477666e+05 -2.532948e+03       0.116541\n",
       "std    5.683309e+05  8.077415e+05       0.898230\n",
       "min    1.641000e+03 -7.999408e+05      -0.562946\n",
       "25%    3.880780e+05 -2.530285e+05      -0.162426\n",
       "50%    1.195926e+06 -1.327740e+05      -0.083914\n",
       "75%    1.405185e+06 -3.570142e+04       0.005988\n",
       "max    2.088243e+06  8.109404e+06       9.483495"
      ]
     },
     "execution_count": 167,
     "metadata": {},
     "output_type": "execute_result"
    }
   ],
   "source": [
    "average_lateness_per_user_all.describe()"
   ]
  },
  {
   "cell_type": "code",
   "execution_count": 168,
   "metadata": {},
   "outputs": [
    {
     "data": {
      "text/html": [
       "<div>\n",
       "<style scoped>\n",
       "    .dataframe tbody tr th:only-of-type {\n",
       "        vertical-align: middle;\n",
       "    }\n",
       "\n",
       "    .dataframe tbody tr th {\n",
       "        vertical-align: top;\n",
       "    }\n",
       "\n",
       "    .dataframe thead th {\n",
       "        text-align: right;\n",
       "    }\n",
       "</style>\n",
       "<table border=\"1\" class=\"dataframe\">\n",
       "  <thead>\n",
       "    <tr style=\"text-align: right;\">\n",
       "      <th></th>\n",
       "      <th>UserID</th>\n",
       "      <th>lateness</th>\n",
       "      <th>lateness_norm</th>\n",
       "    </tr>\n",
       "  </thead>\n",
       "  <tbody>\n",
       "    <tr>\n",
       "      <th>count</th>\n",
       "      <td>1.408700e+04</td>\n",
       "      <td>1.408700e+04</td>\n",
       "      <td>14087.000000</td>\n",
       "    </tr>\n",
       "    <tr>\n",
       "      <th>mean</th>\n",
       "      <td>8.353073e+05</td>\n",
       "      <td>-1.823619e+04</td>\n",
       "      <td>0.283344</td>\n",
       "    </tr>\n",
       "    <tr>\n",
       "      <th>std</th>\n",
       "      <td>5.371412e+05</td>\n",
       "      <td>1.219790e+06</td>\n",
       "      <td>2.103794</td>\n",
       "    </tr>\n",
       "    <tr>\n",
       "      <th>min</th>\n",
       "      <td>9.640000e+02</td>\n",
       "      <td>-1.315114e+06</td>\n",
       "      <td>-0.763666</td>\n",
       "    </tr>\n",
       "    <tr>\n",
       "      <th>25%</th>\n",
       "      <td>2.382095e+05</td>\n",
       "      <td>-4.914481e+05</td>\n",
       "      <td>-0.333542</td>\n",
       "    </tr>\n",
       "    <tr>\n",
       "      <th>50%</th>\n",
       "      <td>8.887240e+05</td>\n",
       "      <td>-1.635383e+05</td>\n",
       "      <td>-0.140077</td>\n",
       "    </tr>\n",
       "    <tr>\n",
       "      <th>75%</th>\n",
       "      <td>1.338060e+06</td>\n",
       "      <td>1.500000e+04</td>\n",
       "      <td>0.030067</td>\n",
       "    </tr>\n",
       "    <tr>\n",
       "      <th>max</th>\n",
       "      <td>2.127600e+06</td>\n",
       "      <td>1.308694e+07</td>\n",
       "      <td>29.499414</td>\n",
       "    </tr>\n",
       "  </tbody>\n",
       "</table>\n",
       "</div>"
      ],
      "text/plain": [
       "             UserID      lateness  lateness_norm\n",
       "count  1.408700e+04  1.408700e+04   14087.000000\n",
       "mean   8.353073e+05 -1.823619e+04       0.283344\n",
       "std    5.371412e+05  1.219790e+06       2.103794\n",
       "min    9.640000e+02 -1.315114e+06      -0.763666\n",
       "25%    2.382095e+05 -4.914481e+05      -0.333542\n",
       "50%    8.887240e+05 -1.635383e+05      -0.140077\n",
       "75%    1.338060e+06  1.500000e+04       0.030067\n",
       "max    2.127600e+06  1.308694e+07      29.499414"
      ]
     },
     "execution_count": 168,
     "metadata": {},
     "output_type": "execute_result"
    }
   ],
   "source": [
    "average_lateness_per_user_not_all.describe()"
   ]
  },
  {
   "cell_type": "code",
   "execution_count": 246,
   "metadata": {},
   "outputs": [
    {
     "data": {
      "text/html": [
       "<div>\n",
       "<style scoped>\n",
       "    .dataframe tbody tr th:only-of-type {\n",
       "        vertical-align: middle;\n",
       "    }\n",
       "\n",
       "    .dataframe tbody tr th {\n",
       "        vertical-align: top;\n",
       "    }\n",
       "\n",
       "    .dataframe thead th {\n",
       "        text-align: right;\n",
       "    }\n",
       "</style>\n",
       "<table border=\"1\" class=\"dataframe\">\n",
       "  <thead>\n",
       "    <tr style=\"text-align: right;\">\n",
       "      <th></th>\n",
       "      <th>UserID</th>\n",
       "      <th>Grade</th>\n",
       "      <th>AchievementLevel</th>\n",
       "    </tr>\n",
       "  </thead>\n",
       "  <tbody>\n",
       "    <tr>\n",
       "      <th>0</th>\n",
       "      <td>1</td>\n",
       "      <td>0.0000</td>\n",
       "      <td>Failed</td>\n",
       "    </tr>\n",
       "    <tr>\n",
       "      <th>1</th>\n",
       "      <td>1000012</td>\n",
       "      <td>79.6975</td>\n",
       "      <td>Passed</td>\n",
       "    </tr>\n",
       "    <tr>\n",
       "      <th>2</th>\n",
       "      <td>100002</td>\n",
       "      <td>0.0000</td>\n",
       "      <td>Failed</td>\n",
       "    </tr>\n",
       "    <tr>\n",
       "      <th>3</th>\n",
       "      <td>100009</td>\n",
       "      <td>0.0000</td>\n",
       "      <td>Failed</td>\n",
       "    </tr>\n",
       "    <tr>\n",
       "      <th>4</th>\n",
       "      <td>1000116</td>\n",
       "      <td>0.0000</td>\n",
       "      <td>Failed</td>\n",
       "    </tr>\n",
       "  </tbody>\n",
       "</table>\n",
       "</div>"
      ],
      "text/plain": [
       "    UserID    Grade AchievementLevel\n",
       "0        1   0.0000           Failed\n",
       "1  1000012  79.6975           Passed\n",
       "2   100002   0.0000           Failed\n",
       "3   100009   0.0000           Failed\n",
       "4  1000116   0.0000           Failed"
      ]
     },
     "execution_count": 246,
     "metadata": {},
     "output_type": "execute_result"
    }
   ],
   "source": [
    "grade_df.head()"
   ]
  },
  {
   "cell_type": "code",
   "execution_count": 245,
   "metadata": {},
   "outputs": [
    {
     "data": {
      "text/plain": [
       "count    9593.000000\n",
       "mean       91.335596\n",
       "std        11.866047\n",
       "min        59.925000\n",
       "25%        85.020000\n",
       "50%        98.050000\n",
       "75%       100.000000\n",
       "max       100.000000\n",
       "Name: Grade, dtype: float64"
      ]
     },
     "execution_count": 245,
     "metadata": {},
     "output_type": "execute_result"
    }
   ],
   "source": [
    "grade_df[grade_df['AchievementLevel'] == 'Passed']['Grade'].describe()"
   ]
  }
 ],
 "metadata": {
  "kernelspec": {
   "display_name": "Python 3",
   "language": "python",
   "name": "python3"
  },
  "language_info": {
   "codemirror_mode": {
    "name": "ipython",
    "version": 3
   },
   "file_extension": ".py",
   "mimetype": "text/x-python",
   "name": "python",
   "nbconvert_exporter": "python",
   "pygments_lexer": "ipython3",
   "version": "3.7.0"
  }
 },
 "nbformat": 4,
 "nbformat_minor": 2
}
